{
 "cells": [
  {
   "cell_type": "markdown",
   "metadata": {
    "id": "qzEo6CmFen7a"
   },
   "source": [
    "<h1><center>Assignment No 1</center></h1>\n",
    "<h1><center>Data Understanding and Exploratory Data Analysis</center></h1>\n"
   ]
  },
  {
   "cell_type": "markdown",
   "metadata": {
    "id": "a8JScs8een7d"
   },
   "source": [
    "# Guidelines\n",
    "1. Rename jupyter notebook as **rollnumber_firstname_lastname_A1**.\n",
    "1. You are only allowed to use pandas, numpy and seaborn libraries.\n",
    "1. You are supposed to answer the question here on Jupyter notebook. Use markdown cells to answer the questions while use \"Code\" cells to write the code. You can double click on any markdown cell to edit it and press **shift+enter** to execute any cell.\n",
    "1. Once finished, go to File menu and download the notebook as .html\n",
    "1. Make sure all required figures and tables are visible in the HTML file.\n",
    "1. Submit this HTML file. Note that it must follow the naming convention mentioned above."
   ]
  },
  {
   "cell_type": "markdown",
   "metadata": {
    "id": "z2XKh9Uyen7e"
   },
   "source": [
    "# Import Libraries"
   ]
  },
  {
   "cell_type": "code",
   "execution_count": 1,
   "metadata": {
    "id": "c39c1Il_en7f"
   },
   "outputs": [],
   "source": [
    "# Do not modify this cell\n",
    "\n",
    "import pandas as pd\n",
    "import numpy as np\n",
    "import seaborn as sns"
   ]
  },
  {
   "cell_type": "markdown",
   "metadata": {
    "id": "RjkVt3Bpen7h"
   },
   "source": [
    "# Import Data"
   ]
  },
  {
   "cell_type": "code",
   "execution_count": 2,
   "metadata": {
    "id": "crs7oT7Men7h"
   },
   "outputs": [],
   "source": [
    "# do not modify this cell\n",
    "train_data = pd.read_csv('Housing_Prices_dataset.csv',encoding = \"ISO-8859-1\")\n"
   ]
  },
  {
   "cell_type": "code",
   "execution_count": 3,
   "metadata": {
    "id": "TffbGbFBen7i"
   },
   "outputs": [
    {
     "data": {
      "text/html": [
       "<div>\n",
       "<style scoped>\n",
       "    .dataframe tbody tr th:only-of-type {\n",
       "        vertical-align: middle;\n",
       "    }\n",
       "\n",
       "    .dataframe tbody tr th {\n",
       "        vertical-align: top;\n",
       "    }\n",
       "\n",
       "    .dataframe thead th {\n",
       "        text-align: right;\n",
       "    }\n",
       "</style>\n",
       "<table border=\"1\" class=\"dataframe\">\n",
       "  <thead>\n",
       "    <tr style=\"text-align: right;\">\n",
       "      <th></th>\n",
       "      <th>Suburb</th>\n",
       "      <th>Rooms</th>\n",
       "      <th>Type</th>\n",
       "      <th>Price</th>\n",
       "      <th>Method</th>\n",
       "      <th>SellerG</th>\n",
       "      <th>Propertycount</th>\n",
       "      <th>Distance</th>\n",
       "    </tr>\n",
       "  </thead>\n",
       "  <tbody>\n",
       "    <tr>\n",
       "      <th>0</th>\n",
       "      <td>Abbotsford</td>\n",
       "      <td>3</td>\n",
       "      <td>h</td>\n",
       "      <td>1490000.0</td>\n",
       "      <td>S</td>\n",
       "      <td>Jellis</td>\n",
       "      <td>4019</td>\n",
       "      <td>3.0</td>\n",
       "    </tr>\n",
       "    <tr>\n",
       "      <th>1</th>\n",
       "      <td>Abbotsford</td>\n",
       "      <td>3</td>\n",
       "      <td>h</td>\n",
       "      <td>1220000.0</td>\n",
       "      <td>S</td>\n",
       "      <td>Marshall</td>\n",
       "      <td>4019</td>\n",
       "      <td>3.0</td>\n",
       "    </tr>\n",
       "    <tr>\n",
       "      <th>2</th>\n",
       "      <td>Abbotsford</td>\n",
       "      <td>3</td>\n",
       "      <td>h</td>\n",
       "      <td>1420000.0</td>\n",
       "      <td>S</td>\n",
       "      <td>Nelson</td>\n",
       "      <td>4019</td>\n",
       "      <td>3.0</td>\n",
       "    </tr>\n",
       "    <tr>\n",
       "      <th>3</th>\n",
       "      <td>Aberfeldie</td>\n",
       "      <td>3</td>\n",
       "      <td>h</td>\n",
       "      <td>1515000.0</td>\n",
       "      <td>S</td>\n",
       "      <td>Barry</td>\n",
       "      <td>1543</td>\n",
       "      <td>7.5</td>\n",
       "    </tr>\n",
       "    <tr>\n",
       "      <th>4</th>\n",
       "      <td>Airport West</td>\n",
       "      <td>2</td>\n",
       "      <td>h</td>\n",
       "      <td>670000.0</td>\n",
       "      <td>S</td>\n",
       "      <td>Nelson</td>\n",
       "      <td>3464</td>\n",
       "      <td>10.4</td>\n",
       "    </tr>\n",
       "    <tr>\n",
       "      <th>5</th>\n",
       "      <td>Airport West</td>\n",
       "      <td>2</td>\n",
       "      <td>t</td>\n",
       "      <td>530000.0</td>\n",
       "      <td>S</td>\n",
       "      <td>Jellis</td>\n",
       "      <td>3464</td>\n",
       "      <td>10.4</td>\n",
       "    </tr>\n",
       "    <tr>\n",
       "      <th>6</th>\n",
       "      <td>Airport West</td>\n",
       "      <td>2</td>\n",
       "      <td>u</td>\n",
       "      <td>540000.0</td>\n",
       "      <td>S</td>\n",
       "      <td>Barry</td>\n",
       "      <td>3464</td>\n",
       "      <td>10.4</td>\n",
       "    </tr>\n",
       "    <tr>\n",
       "      <th>7</th>\n",
       "      <td>Airport West</td>\n",
       "      <td>3</td>\n",
       "      <td>h</td>\n",
       "      <td>715000.0</td>\n",
       "      <td>SP</td>\n",
       "      <td>Nelson</td>\n",
       "      <td>3464</td>\n",
       "      <td>10.4</td>\n",
       "    </tr>\n",
       "    <tr>\n",
       "      <th>8</th>\n",
       "      <td>Albanvale</td>\n",
       "      <td>6</td>\n",
       "      <td>h</td>\n",
       "      <td>NaN</td>\n",
       "      <td>PI</td>\n",
       "      <td>hockingstuart</td>\n",
       "      <td>1899</td>\n",
       "      <td>14.0</td>\n",
       "    </tr>\n",
       "    <tr>\n",
       "      <th>9</th>\n",
       "      <td>Albert Park</td>\n",
       "      <td>3</td>\n",
       "      <td>h</td>\n",
       "      <td>1925000.0</td>\n",
       "      <td>S</td>\n",
       "      <td>Cayzer</td>\n",
       "      <td>3280</td>\n",
       "      <td>NaN</td>\n",
       "    </tr>\n",
       "  </tbody>\n",
       "</table>\n",
       "</div>"
      ],
      "text/plain": [
       "         Suburb  Rooms Type      Price Method        SellerG  Propertycount  \\\n",
       "0    Abbotsford      3    h  1490000.0      S         Jellis           4019   \n",
       "1    Abbotsford      3    h  1220000.0      S       Marshall           4019   \n",
       "2    Abbotsford      3    h  1420000.0      S         Nelson           4019   \n",
       "3    Aberfeldie      3    h  1515000.0      S          Barry           1543   \n",
       "4  Airport West      2    h   670000.0      S         Nelson           3464   \n",
       "5  Airport West      2    t   530000.0      S         Jellis           3464   \n",
       "6  Airport West      2    u   540000.0      S          Barry           3464   \n",
       "7  Airport West      3    h   715000.0     SP         Nelson           3464   \n",
       "8     Albanvale      6    h        NaN     PI  hockingstuart           1899   \n",
       "9   Albert Park      3    h  1925000.0      S         Cayzer           3280   \n",
       "\n",
       "   Distance  \n",
       "0       3.0  \n",
       "1       3.0  \n",
       "2       3.0  \n",
       "3       7.5  \n",
       "4      10.4  \n",
       "5      10.4  \n",
       "6      10.4  \n",
       "7      10.4  \n",
       "8      14.0  \n",
       "9       NaN  "
      ]
     },
     "execution_count": 3,
     "metadata": {},
     "output_type": "execute_result"
    }
   ],
   "source": [
    "train_data_backup = train_data\n",
    "train_data.head(10)"
   ]
  },
  {
   "cell_type": "markdown",
   "metadata": {
    "id": "jbPU7Zrcen7k"
   },
   "source": [
    "# Part 1: Filling missing (NaN) values. (9 questions, 5 marks each)\n",
    "**We have loaded a dataset for you and it's first 10 rows are printed. All below experiments are to be performed on the variable \"train_data\".**\n",
    "\n",
    "1. Identify and enlist numerical and categorical attributes.\n",
    "1. Print summary statistics of the numerical attributes of the data (mean, std, min, 25%, 50%, 75%, max, counts).\n",
    "1. Write a code below that prints total number of records and total number of attributes of this data.\n",
    "1.Write a code to find number of unique entries in column'SellerG'.\n",
    "1.Write a code to identify which columns have missing values and print the number of missing values corresponding to that column.\n",
    "Comment on possible reason for missing values.\n"
   ]
  },
  {
   "cell_type": "markdown",
   "metadata": {
    "id": "cGXoj2PQen7n"
   },
   "source": [
    "**Enlist numerical and categorical attributes.**\n",
    "\n",
    "> Numerical Attributes : Propertycount, Distance, Price\n",
    "\n",
    "> Categorical Attributes: Suburb, Rooms, Type, Method, SellerG\n"
   ]
  },
  {
   "cell_type": "markdown",
   "metadata": {
    "id": "1smJlLy8iwUO"
   },
   "source": [
    "#### Print Summary statistics of numerical attribtues"
   ]
  },
  {
   "cell_type": "code",
   "execution_count": 4,
   "metadata": {
    "id": "izDJ-Ck3i2Yr"
   },
   "outputs": [
    {
     "data": {
      "text/html": [
       "<div>\n",
       "<style scoped>\n",
       "    .dataframe tbody tr th:only-of-type {\n",
       "        vertical-align: middle;\n",
       "    }\n",
       "\n",
       "    .dataframe tbody tr th {\n",
       "        vertical-align: top;\n",
       "    }\n",
       "\n",
       "    .dataframe thead th {\n",
       "        text-align: right;\n",
       "    }\n",
       "</style>\n",
       "<table border=\"1\" class=\"dataframe\">\n",
       "  <thead>\n",
       "    <tr style=\"text-align: right;\">\n",
       "      <th></th>\n",
       "      <th>Rooms</th>\n",
       "      <th>Price</th>\n",
       "      <th>Propertycount</th>\n",
       "      <th>Distance</th>\n",
       "    </tr>\n",
       "  </thead>\n",
       "  <tbody>\n",
       "    <tr>\n",
       "      <th>count</th>\n",
       "      <td>63023.000000</td>\n",
       "      <td>4.843300e+04</td>\n",
       "      <td>63023.000000</td>\n",
       "      <td>63010.000000</td>\n",
       "    </tr>\n",
       "    <tr>\n",
       "      <th>mean</th>\n",
       "      <td>3.110595</td>\n",
       "      <td>9.978982e+05</td>\n",
       "      <td>7617.728131</td>\n",
       "      <td>12.684977</td>\n",
       "    </tr>\n",
       "    <tr>\n",
       "      <th>std</th>\n",
       "      <td>0.957551</td>\n",
       "      <td>5.934989e+05</td>\n",
       "      <td>4424.423167</td>\n",
       "      <td>7.592287</td>\n",
       "    </tr>\n",
       "    <tr>\n",
       "      <th>min</th>\n",
       "      <td>1.000000</td>\n",
       "      <td>8.500000e+04</td>\n",
       "      <td>39.000000</td>\n",
       "      <td>0.000000</td>\n",
       "    </tr>\n",
       "    <tr>\n",
       "      <th>25%</th>\n",
       "      <td>3.000000</td>\n",
       "      <td>6.200000e+05</td>\n",
       "      <td>4380.000000</td>\n",
       "      <td>7.000000</td>\n",
       "    </tr>\n",
       "    <tr>\n",
       "      <th>50%</th>\n",
       "      <td>3.000000</td>\n",
       "      <td>8.300000e+05</td>\n",
       "      <td>6795.000000</td>\n",
       "      <td>11.400000</td>\n",
       "    </tr>\n",
       "    <tr>\n",
       "      <th>75%</th>\n",
       "      <td>4.000000</td>\n",
       "      <td>1.220000e+06</td>\n",
       "      <td>10412.000000</td>\n",
       "      <td>16.700000</td>\n",
       "    </tr>\n",
       "    <tr>\n",
       "      <th>max</th>\n",
       "      <td>31.000000</td>\n",
       "      <td>1.120000e+07</td>\n",
       "      <td>21650.000000</td>\n",
       "      <td>64.100000</td>\n",
       "    </tr>\n",
       "  </tbody>\n",
       "</table>\n",
       "</div>"
      ],
      "text/plain": [
       "              Rooms         Price  Propertycount      Distance\n",
       "count  63023.000000  4.843300e+04   63023.000000  63010.000000\n",
       "mean       3.110595  9.978982e+05    7617.728131     12.684977\n",
       "std        0.957551  5.934989e+05    4424.423167      7.592287\n",
       "min        1.000000  8.500000e+04      39.000000      0.000000\n",
       "25%        3.000000  6.200000e+05    4380.000000      7.000000\n",
       "50%        3.000000  8.300000e+05    6795.000000     11.400000\n",
       "75%        4.000000  1.220000e+06   10412.000000     16.700000\n",
       "max       31.000000  1.120000e+07   21650.000000     64.100000"
      ]
     },
     "execution_count": 4,
     "metadata": {},
     "output_type": "execute_result"
    }
   ],
   "source": [
    "# Print Summary statistics of numerical attribtues\n",
    "train_data.describe()"
   ]
  },
  {
   "cell_type": "markdown",
   "metadata": {
    "id": "uWfM_4vzen7o"
   },
   "source": [
    "#### Show number of records and number of attributes of the data above\n"
   ]
  },
  {
   "cell_type": "code",
   "execution_count": 5,
   "metadata": {
    "id": "qbOY78t6en7o"
   },
   "outputs": [
    {
     "name": "stdout",
     "output_type": "stream",
     "text": [
      "number of records:  63023\n",
      "number of attributes:  8\n"
     ]
    }
   ],
   "source": [
    "# Show number of records and number of attributes of the data above\n",
    "num_rows = train_data.shape[0]\n",
    "print('number of records: ',num_rows)\n",
    "num_cols = train_data.shape[1]\n",
    "print('number of attributes: ',num_cols)"
   ]
  },
  {
   "cell_type": "markdown",
   "metadata": {
    "id": "_3dnPHkZkANQ"
   },
   "source": [
    "#### Print unique values in the column 'SellerG'"
   ]
  },
  {
   "cell_type": "code",
   "execution_count": 6,
   "metadata": {
    "id": "QhdQYhujkG8J"
   },
   "outputs": [
    {
     "name": "stdout",
     "output_type": "stream",
     "text": [
      "['Jellis' 'Marshall' 'Nelson' 'Barry' 'hockingstuart' 'Cayzer' 'Douglas'\n",
      " 'Bells' 'Miles' 'Barlow' 'Hunter' 'Ray' 'Fletchers' 'Walshe' 'Noel'\n",
      " 'Philip' 'Buxton' 'Hodges' 'Woodards' 'Point' 'Stockdale' 'Purplebricks'\n",
      " 'Biggin' 'Village' 'Boran' 'Jas' 'Kay' 'Prof' 'YPA' 'Rombotis' 'Brad' 'J'\n",
      " 'RT' 'Garvey' 'Prowse' 'Domain' 'Sweeney' 'Donovan' 'Gary' \"O'Brien\" 'LJ'\n",
      " 'Darras' 'C21' 'Peter' 'Del' 'Jason' 'Bombay' 'iSell' 'Carter' 'McLennan'\n",
      " 'buyMyplace' 'Raine' 'Mason' 'Lindellas' 'Parkes' 'Caine'\n",
      " 'hockingstuart/hockingstuart' 'Morrison' 'Chisholm' 'Whiting' 'Harcourts'\n",
      " 'Love' 'Frank' 'Rendina' 'Win' 'Schroeder' 'Collins' 'McGrath' 'Eview'\n",
      " 'Aquire' 'Wilson' 'LLC' 'Roger' 'Darren' 'Buckingham' 'Nick' 'Prof.'\n",
      " 'Greg' 'Haughton' 'Edward' 'Iconek' \"Sotheby's\" \"Abercromby's\" 'Obrien'\n",
      " 'Grantham' 'Hoskins' 'Benchmark' 'Thomson' 'Alexkarbon' 'Matthew' 'RW'\n",
      " 'RE' 'U' 'MICM' 'Compton' 'FN' 'Westside' 'Considine' 'ASL' 'Reliance'\n",
      " 'Langwell' 'Gardiner' 'Triwest' 'Williams' 'Gunn&Co' 'Moonee' 'McDonald'\n",
      " 'Appleby' 'Nicholson' 'Bekdon' 'Metro' \"Grant's\" 'Melbourne' '@Realty'\n",
      " 'Ham' 'Morleys' 'Burnham' 'LITTLE' 'William' 'PRDNationwide' 'Max' 'Only'\n",
      " 'Leyton' 'Maitland' 'Lucas' 'Rounds' 'Millership' 'L' 'iTRAK' 'Emerson'\n",
      " 'People' 'Paul' 'HAR' 'JRW' 'Pride' 'PNJ' 'Harcourts/Biggin' 'Red' 'Area'\n",
      " 'Skad' 'Finders' 'Home' 'The' 'Elite' 'Fletchers/Fletchers' 'Leeburn'\n",
      " 'Benlor' 'Wyndham' 'Upside' 'R&H' 'Tim' 'Besser' 'Branon' 'Property'\n",
      " 'Savoy' 'Hamilton' \"Buxton/O'Brien\" 'Boutique' 'Collings' 'iHomes'\n",
      " 'Dawson' 'David' 'Zed' 'Follett' 'Exchanged' 'Rexhepi' 'W.B.' 'Scott'\n",
      " 'Munn' 'Cocoon' 'United' 'GL' 'Ruralco' 'voglwalpole' 'Hall' 'REMAX'\n",
      " 'hockingstuart/Sweeney' 'Ash' 'Gold' 'Hill' 'Ryder'\n",
      " 'hockingstuart/Biggin' 'Bayside' 'Janice' 'Harrington' 'R' 'G&H'\n",
      " 'Charlton' 'Commercial' 'PSP' 'Flannagan' 'Geoff' 'S&L'\n",
      " 'hockingstuart/Cayzer' 'Leading' 'Real' 'OBrien' 'LJH' 'Le' 'Nguyen'\n",
      " 'Rodney' 'Unity' 'Steller' 'Jim' 'Ace' 'JMRE' 'Castran' 'WeSell' 'M.J'\n",
      " 'iProperty' 'Hayeswinckle' 'Nardella' 'Brace' 'Century' 'Ross' 'Rayner'\n",
      " 'Asset' 'Allens' 'Zahn' 'Sanctuary' 'Dingle' 'VICPROP' 'Crane' 'One'\n",
      " 'Kaye' 'Community' 'Meadows' 'Just' 'McNaughton' 'Cooper' 'Black' 'North'\n",
      " 'Naison' 'Reach' 'Homes' 'New' \"D'Aprano\" 'Len' 'Leased' 'Blue'\n",
      " 'hockingstuart/Village' 'Ascend' 'Ken' 'Buxton/Buxton' 'Daniel' 'Inner'\n",
      " 'Maddison' 'Peake' \"Tiernan's\" 'Re' 'Professionals' 'Holland' 'Avion'\n",
      " 'Reed' 'hockingstuart/Barry' 'K.R.Peters' 'Christopher' 'Joseph' 'Belmar'\n",
      " 'Pagan' 'Galldon' 'Beller' 'Dixon' 'Abley' 'Chambers' 'Marvelli'\n",
      " 'Kennedy' 'Harrison' 'Trimson' 'Gross' 'Parkinson' 'Johnston'\n",
      " 'hockingstuart/Harcourts' 'Bowman' 'Sell' 'Charter' 'MJ' 'Hodges/Hodges'\n",
      " 'Buxton/Marshall' 'A' 'Collin' 'Watermark' 'Matrix' 'Calder' 'Thomas'\n",
      " 'Shape' 'Spencer' 'Space' 'McGrath/Langwell' 'Burns' 'Weda' 'JK' 'Mandy'\n",
      " 'Airport' 'Foxtons' 'Buxton/Advantage' 'Nexus' 'First' 'Bell' 'Arbee'\n",
      " 'Fletchers/Jellis' 'Alex' 'C' 'Create' 'Weston' 'TTS' 'Assisi' 'McEwing'\n",
      " 'Raine&Horne' 'Shine' 'Market' 'Coad' 'Ausin' 'Tanner' 'Ristic' 'Bullen'\n",
      " 'WHITEFOX' 'PRD' 'Landfield' 'Full' 'MSM' 'Anderson' 'Kelly' 'VICProp'\n",
      " 'Hooper' 'JY' 'Upper' 'Xynergy' 'VicHomes' 'TRUE' 'Vicprop' 'UFirst'\n",
      " 'Enrich' 'Sweeney/Advantage' 'Justin' 'Hodges/Buxton' 'Nicholls'\n",
      " 'hockingstuart/Advantage' 'Open' 'Leaders' 'Sterling' 'CarlinSmith'\n",
      " 'Mega' 'Sprint' 'McGrath/Noel' 'Wood' 'Fletchers/One' 'Quinta' 'Flanagan'\n",
      " 'Jacobs' 'Walsh' 'Woodards/hockingstuart' 'Mitchell'\n",
      " 'hockingstuart/Buxton' 'P' 'Silver' 'Surreal' 'Judith' 'MIG'\n",
      " 'hockingstuart/ASL' 'Kontek' 'Harcourts/Harcourts' 'Keatings' 'Smart'\n",
      " \"O'Donoghues\" 'Changing' 'Owen' 'Australian' 'CASTRAN' 'Peninsula' 'Gr8'\n",
      " 'Outlook' 'Davita' 'Lynda' 'Lazogas' 'Little' 'Town' 'Conley'\n",
      " 'hockingstuart/HAR' 'Propertyau' 'Batty' 'Sutherland' 'Redina' 'Allan'\n",
      " 'Hume' 'Knight' 'Blackbird' 'Oriental' 'Better' 'Royston' 'Haven'\n",
      " 'Platinum' 'Revolve' 'VicBrokers' 'Richardson' 'Harcourts/Barry'\n",
      " 'Harcourts/LJ' 'Pellegrino' 'Landmark' 'Doyen' 'Coventry' 'Evolve'\n",
      " 'Clairmont' 'iOne' 'hockingstuart/Kerr' 'Jupiter' 'Rosin'\n",
      " 'McGrath/Buxton' 'hockingstuart/Marshall' 'McGrath/First' 'Victory'\n",
      " 'Aumeca' 'Mindacom' 'Karen' 'AIME' 'Luxe' 'Fletchers/J' 'Meallin'\n",
      " 'Malvern' 'Mark' 'Bradly' 'Sandhurst' 'Buxton/Find' 'Christou' 'Craig'\n",
      " 'Sahara' 'We' 'Jamie' 'Sweeney/Burnham' 'Eric' 'H' 'Regal' 'Luxton'\n",
      " 'Steveway' 'SheSELLS' 'hockingstuart/Purplebricks' 'Impact' 'Realty'\n",
      " 'Aussie' 'Patterson' 'SN' 'Waterfront' 'Methven' 'hockingstuart/Jellis'\n",
      " 'Woodards/Peter' 'Buxton/hockingstuart' 'Kerr' 'Nicholas' 'Conquest'\n",
      " 'Park' 'Auv' 'For' 'Weast' 'Pavilion' 'Integrity' \"Private/Tiernan's\"\n",
      " 'Harcourts/YPA' 'T' 'Prime' 'Free' 'Veitch' 'John' 'Joe' 'Bustin' 'Vic'\n",
      " 'Direct' 'Bayview' 'Leader' 'Oak' 'Can' 'Gellibrand' 'White' 'Jeffrey'\n",
      " 'Icon' 'Buxton/Hodges' 'Living']\n"
     ]
    }
   ],
   "source": [
    "#Print count of unique entries in SellerG\n",
    "print(train_data['SellerG'].unique())"
   ]
  },
  {
   "cell_type": "markdown",
   "metadata": {
    "id": "W9YDA4NCl5Kf"
   },
   "source": [
    "#### Print the number of missing values"
   ]
  },
  {
   "cell_type": "code",
   "execution_count": 7,
   "metadata": {
    "id": "z2QNWsXFl8yA"
   },
   "outputs": [
    {
     "name": "stdout",
     "output_type": "stream",
     "text": [
      "Number of missing values:\n",
      " Suburb               0\n",
      "Rooms                0\n",
      "Type                 0\n",
      "Price            14590\n",
      "Method               0\n",
      "SellerG              0\n",
      "Propertycount        0\n",
      "Distance            13\n",
      "dtype: int64\n",
      "Total missing values:  14603\n"
     ]
    }
   ],
   "source": [
    "#Number of missing values\n",
    "print('Number of missing values:\\n',train_data.isna().sum())\n",
    "print('Total missing values: ',train_data.isna().sum().sum())"
   ]
  },
  {
   "cell_type": "markdown",
   "metadata": {
    "id": "cfk43uOsnpYc"
   },
   "source": [
    "# **Dealing with Missing values**\n"
   ]
  },
  {
   "cell_type": "markdown",
   "metadata": {
    "id": "ubYI66Z7ntQv"
   },
   "source": [
    "#### One option to get rid of missing values is to remove the rows and columns that contain missing values.This approach is not recommeded.\n",
    "6.Remove the rows and columns with missing values and comment why it's not a good approach."
   ]
  },
  {
   "cell_type": "code",
   "execution_count": 8,
   "metadata": {
    "id": "K_V2k2aBtLIK"
   },
   "outputs": [
    {
     "name": "stdout",
     "output_type": "stream",
     "text": [
      "Remove NAN columns:\n",
      "                  Suburb  Rooms Type Method   SellerG  Propertycount\n",
      "0            Abbotsford      3    h      S    Jellis           4019\n",
      "1            Abbotsford      3    h      S  Marshall           4019\n",
      "2            Abbotsford      3    h      S    Nelson           4019\n",
      "3            Aberfeldie      3    h      S     Barry           1543\n",
      "4          Airport West      2    h      S    Nelson           3464\n",
      "...                 ...    ...  ...    ...       ...            ...\n",
      "63018     Roxburgh Park      3    h      S     Raine           5833\n",
      "63019     Roxburgh Park      3    h      S     Raine           5833\n",
      "63020     Roxburgh Park      3    h      S     Raine           5833\n",
      "63021        Thomastown      3    u     PI     Barry           7955\n",
      "63022  Williams Landing      4    h     SP    Aussie           1999\n",
      "\n",
      "[63023 rows x 6 columns]\n",
      "Remove NAN rows:\n",
      "               Suburb  Rooms Type      Price Method   SellerG  Propertycount  \\\n",
      "0         Abbotsford      3    h  1490000.0      S    Jellis           4019   \n",
      "1         Abbotsford      3    h  1220000.0      S  Marshall           4019   \n",
      "2         Abbotsford      3    h  1420000.0      S    Nelson           4019   \n",
      "3         Aberfeldie      3    h  1515000.0      S     Barry           1543   \n",
      "4       Airport West      2    h   670000.0      S    Nelson           3464   \n",
      "...              ...    ...  ...        ...    ...       ...            ...   \n",
      "63016      Frankston      2    u   347700.0     SP    Aquire          17055   \n",
      "63017        Preston      3    h   808000.0      S        RW          14577   \n",
      "63018  Roxburgh Park      3    h   566000.0      S     Raine           5833   \n",
      "63019  Roxburgh Park      3    h   500000.0      S     Raine           5833   \n",
      "63020  Roxburgh Park      3    h   545000.0      S     Raine           5833   \n",
      "\n",
      "       Distance  \n",
      "0           3.0  \n",
      "1           3.0  \n",
      "2           3.0  \n",
      "3           7.5  \n",
      "4          10.4  \n",
      "...         ...  \n",
      "63016      38.0  \n",
      "63017       8.4  \n",
      "63018      20.6  \n",
      "63019      20.6  \n",
      "63020      20.6  \n",
      "\n",
      "[48424 rows x 8 columns]\n"
     ]
    }
   ],
   "source": [
    "#Remove columns with missing values\n",
    "c_drop = train_data.dropna(axis='columns')\n",
    "print('Remove NAN columns:\\n', c_drop)\n",
    "#Remove rows with missing values\n",
    "r_drop = train_data.dropna(axis='rows')\n",
    "print('Remove NAN rows:\\n', r_drop)\n",
    "\n",
    "#It is not a good approach for removing NAN values because we are loosing data, especially dropping columns is never a good approach."
   ]
  },
  {
   "cell_type": "markdown",
   "metadata": {
    "id": "QLVmBbFben7p"
   },
   "source": [
    "#### Another option to fill the missing values is to use backward or forward fill.\n",
    "7.Write a code to perform backward fill for all columns.\n",
    "Also perform a test for count of NAN values before and after the fill. Highlight the issues that may arise with this form of filling."
   ]
  },
  {
   "cell_type": "code",
   "execution_count": 9,
   "metadata": {
    "id": "baM0IhMten7p"
   },
   "outputs": [
    {
     "name": "stdout",
     "output_type": "stream",
     "text": [
      "test for NAN before filling the missing values:  True\n"
     ]
    }
   ],
   "source": [
    "#Backward fill\n",
    "print('test for NAN before filling the missing values: ',train_data.isna().values.any())"
   ]
  },
  {
   "cell_type": "code",
   "execution_count": 10,
   "metadata": {},
   "outputs": [],
   "source": [
    "train_data = train_data.bfill(axis ='columns')"
   ]
  },
  {
   "cell_type": "code",
   "execution_count": 11,
   "metadata": {},
   "outputs": [
    {
     "name": "stdout",
     "output_type": "stream",
     "text": [
      "test for NAN after filling the missing values:  True\n"
     ]
    }
   ],
   "source": [
    "print('test for NAN after filling the missing values: ',train_data.isnull().values.any() )\n"
   ]
  },
  {
   "cell_type": "code",
   "execution_count": 12,
   "metadata": {},
   "outputs": [],
   "source": [
    "# It can leave some NAN values because if the next columns for that particular row are NAN, NAN value can not be replaced."
   ]
  },
  {
   "cell_type": "markdown",
   "metadata": {
    "id": "vT-wZRjken7q"
   },
   "source": [
    "#### Print summary statistics after filling missing values"
   ]
  },
  {
   "cell_type": "code",
   "execution_count": 13,
   "metadata": {
    "id": "t8gdoOWIen7q"
   },
   "outputs": [
    {
     "data": {
      "text/html": [
       "<div>\n",
       "<style scoped>\n",
       "    .dataframe tbody tr th:only-of-type {\n",
       "        vertical-align: middle;\n",
       "    }\n",
       "\n",
       "    .dataframe tbody tr th {\n",
       "        vertical-align: top;\n",
       "    }\n",
       "\n",
       "    .dataframe thead th {\n",
       "        text-align: right;\n",
       "    }\n",
       "</style>\n",
       "<table border=\"1\" class=\"dataframe\">\n",
       "  <thead>\n",
       "    <tr style=\"text-align: right;\">\n",
       "      <th></th>\n",
       "      <th>Suburb</th>\n",
       "      <th>Rooms</th>\n",
       "      <th>Type</th>\n",
       "      <th>Price</th>\n",
       "      <th>Method</th>\n",
       "      <th>SellerG</th>\n",
       "      <th>Propertycount</th>\n",
       "      <th>Distance</th>\n",
       "    </tr>\n",
       "  </thead>\n",
       "  <tbody>\n",
       "    <tr>\n",
       "      <th>count</th>\n",
       "      <td>63023</td>\n",
       "      <td>63023</td>\n",
       "      <td>63023</td>\n",
       "      <td>63023</td>\n",
       "      <td>63023</td>\n",
       "      <td>63023</td>\n",
       "      <td>63023</td>\n",
       "      <td>63010.0</td>\n",
       "    </tr>\n",
       "    <tr>\n",
       "      <th>unique</th>\n",
       "      <td>380</td>\n",
       "      <td>14</td>\n",
       "      <td>3</td>\n",
       "      <td>3426</td>\n",
       "      <td>9</td>\n",
       "      <td>476</td>\n",
       "      <td>368</td>\n",
       "      <td>180.0</td>\n",
       "    </tr>\n",
       "    <tr>\n",
       "      <th>top</th>\n",
       "      <td>Reservoir</td>\n",
       "      <td>3</td>\n",
       "      <td>h</td>\n",
       "      <td>PI</td>\n",
       "      <td>S</td>\n",
       "      <td>Barry</td>\n",
       "      <td>21650</td>\n",
       "      <td>10.5</td>\n",
       "    </tr>\n",
       "    <tr>\n",
       "      <th>freq</th>\n",
       "      <td>1241</td>\n",
       "      <td>27950</td>\n",
       "      <td>45053</td>\n",
       "      <td>3850</td>\n",
       "      <td>34063</td>\n",
       "      <td>6894</td>\n",
       "      <td>1241</td>\n",
       "      <td>1476.0</td>\n",
       "    </tr>\n",
       "  </tbody>\n",
       "</table>\n",
       "</div>"
      ],
      "text/plain": [
       "           Suburb  Rooms   Type  Price Method SellerG  Propertycount  Distance\n",
       "count       63023  63023  63023  63023  63023   63023          63023   63010.0\n",
       "unique        380     14      3   3426      9     476            368     180.0\n",
       "top     Reservoir      3      h     PI      S   Barry          21650      10.5\n",
       "freq         1241  27950  45053   3850  34063    6894           1241    1476.0"
      ]
     },
     "execution_count": 13,
     "metadata": {},
     "output_type": "execute_result"
    }
   ],
   "source": [
    "#Summary stats \n",
    "train_data.describe()"
   ]
  },
  {
   "cell_type": "markdown",
   "metadata": {
    "id": "3h8ANy2Den7r"
   },
   "source": [
    "8. Now use **train_data_backup** and fill missing values by taking mode of each column. Print summary statistics of numerical attributes and comment of the difference (between backward fill and mode fill).\n",
    "9. Which method of filling missing values is desirable for this particular data and why?"
   ]
  },
  {
   "cell_type": "markdown",
   "metadata": {
    "id": "ZFBBPOQ-en7r"
   },
   "source": [
    "#### Fill missing values of train_data_backup and print summary statistics."
   ]
  },
  {
   "cell_type": "code",
   "execution_count": 14,
   "metadata": {
    "id": "cdu76D8aen7r"
   },
   "outputs": [
    {
     "data": {
      "text/html": [
       "<div>\n",
       "<style scoped>\n",
       "    .dataframe tbody tr th:only-of-type {\n",
       "        vertical-align: middle;\n",
       "    }\n",
       "\n",
       "    .dataframe tbody tr th {\n",
       "        vertical-align: top;\n",
       "    }\n",
       "\n",
       "    .dataframe thead th {\n",
       "        text-align: right;\n",
       "    }\n",
       "</style>\n",
       "<table border=\"1\" class=\"dataframe\">\n",
       "  <thead>\n",
       "    <tr style=\"text-align: right;\">\n",
       "      <th></th>\n",
       "      <th>Rooms</th>\n",
       "      <th>Price</th>\n",
       "      <th>Propertycount</th>\n",
       "      <th>Distance</th>\n",
       "    </tr>\n",
       "  </thead>\n",
       "  <tbody>\n",
       "    <tr>\n",
       "      <th>count</th>\n",
       "      <td>63023.000000</td>\n",
       "      <td>6.302300e+04</td>\n",
       "      <td>63023.000000</td>\n",
       "      <td>63023.000000</td>\n",
       "    </tr>\n",
       "    <tr>\n",
       "      <th>mean</th>\n",
       "      <td>3.110595</td>\n",
       "      <td>9.057837e+05</td>\n",
       "      <td>7617.728131</td>\n",
       "      <td>12.684526</td>\n",
       "    </tr>\n",
       "    <tr>\n",
       "      <th>std</th>\n",
       "      <td>0.957551</td>\n",
       "      <td>5.466832e+05</td>\n",
       "      <td>4424.423167</td>\n",
       "      <td>7.591569</td>\n",
       "    </tr>\n",
       "    <tr>\n",
       "      <th>min</th>\n",
       "      <td>1.000000</td>\n",
       "      <td>8.500000e+04</td>\n",
       "      <td>39.000000</td>\n",
       "      <td>0.000000</td>\n",
       "    </tr>\n",
       "    <tr>\n",
       "      <th>25%</th>\n",
       "      <td>3.000000</td>\n",
       "      <td>6.000000e+05</td>\n",
       "      <td>4380.000000</td>\n",
       "      <td>7.000000</td>\n",
       "    </tr>\n",
       "    <tr>\n",
       "      <th>50%</th>\n",
       "      <td>3.000000</td>\n",
       "      <td>6.975000e+05</td>\n",
       "      <td>6795.000000</td>\n",
       "      <td>11.400000</td>\n",
       "    </tr>\n",
       "    <tr>\n",
       "      <th>75%</th>\n",
       "      <td>4.000000</td>\n",
       "      <td>1.065000e+06</td>\n",
       "      <td>10412.000000</td>\n",
       "      <td>16.700000</td>\n",
       "    </tr>\n",
       "    <tr>\n",
       "      <th>max</th>\n",
       "      <td>31.000000</td>\n",
       "      <td>1.120000e+07</td>\n",
       "      <td>21650.000000</td>\n",
       "      <td>64.100000</td>\n",
       "    </tr>\n",
       "  </tbody>\n",
       "</table>\n",
       "</div>"
      ],
      "text/plain": [
       "              Rooms         Price  Propertycount      Distance\n",
       "count  63023.000000  6.302300e+04   63023.000000  63023.000000\n",
       "mean       3.110595  9.057837e+05    7617.728131     12.684526\n",
       "std        0.957551  5.466832e+05    4424.423167      7.591569\n",
       "min        1.000000  8.500000e+04      39.000000      0.000000\n",
       "25%        3.000000  6.000000e+05    4380.000000      7.000000\n",
       "50%        3.000000  6.975000e+05    6795.000000     11.400000\n",
       "75%        4.000000  1.065000e+06   10412.000000     16.700000\n",
       "max       31.000000  1.120000e+07   21650.000000     64.100000"
      ]
     },
     "execution_count": 14,
     "metadata": {},
     "output_type": "execute_result"
    }
   ],
   "source": [
    "#Mode fill\n",
    "for column in train_data_backup.columns:\n",
    "    train_data_backup[column].fillna(train_data_backup[column].mode()[0],inplace=True)\n",
    "#Summary stats\n",
    "train_data_backup.describe()"
   ]
  },
  {
   "cell_type": "markdown",
   "metadata": {
    "id": "lkHnsUSyen7s"
   },
   "source": [
    "#### Comment on which method is better and why."
   ]
  },
  {
   "cell_type": "code",
   "execution_count": 15,
   "metadata": {
    "id": "O2Q8bli0en7s"
   },
   "outputs": [
    {
     "data": {
      "text/plain": [
       "'\\nIn this case, \\nremoving NANs from rows and columns was not feasible as it was causing huge data lose.\\nback fill was not removing all NANs.\\nMode fill was the best as it was removing all the NANs without data lose, but it will create bias in the data.\\n'"
      ]
     },
     "execution_count": 15,
     "metadata": {},
     "output_type": "execute_result"
    }
   ],
   "source": [
    "#Comments\n",
    "'''\n",
    "In this case, \n",
    "removing NANs from rows and columns was not feasible as it was causing huge data lose.\n",
    "back fill was not removing all NANs.\n",
    "Mode fill was the best as it was removing all the NANs without data lose, but it will create bias in the data.\n",
    "'''"
   ]
  },
  {
   "cell_type": "markdown",
   "metadata": {
    "id": "iqnAd6BTen7s"
   },
   "source": [
    "# Part 2: Correlation, Covariance and Heatmaps (4 questions, 5 marks each)\n",
    "**In this data, you are provided car data set. Your job is to find correlation and covariance between attributes.**"
   ]
  },
  {
   "cell_type": "code",
   "execution_count": 16,
   "metadata": {
    "id": "CPR-eDRWJcv-"
   },
   "outputs": [],
   "source": [
    "cars_data = pd.read_csv('cars_dataset.csv',encoding = \"ISO-8859-1\")"
   ]
  },
  {
   "cell_type": "code",
   "execution_count": 17,
   "metadata": {
    "id": "zI23qgmwen7t"
   },
   "outputs": [
    {
     "data": {
      "text/html": [
       "<div>\n",
       "<style scoped>\n",
       "    .dataframe tbody tr th:only-of-type {\n",
       "        vertical-align: middle;\n",
       "    }\n",
       "\n",
       "    .dataframe tbody tr th {\n",
       "        vertical-align: top;\n",
       "    }\n",
       "\n",
       "    .dataframe thead th {\n",
       "        text-align: right;\n",
       "    }\n",
       "</style>\n",
       "<table border=\"1\" class=\"dataframe\">\n",
       "  <thead>\n",
       "    <tr style=\"text-align: right;\">\n",
       "      <th></th>\n",
       "      <th>transmission</th>\n",
       "      <th>color</th>\n",
       "      <th>year_produced</th>\n",
       "      <th>engine_has_gas</th>\n",
       "      <th>engine_type</th>\n",
       "      <th>engine_capacity</th>\n",
       "      <th>body_type</th>\n",
       "      <th>has_warranty</th>\n",
       "      <th>price_usd</th>\n",
       "    </tr>\n",
       "  </thead>\n",
       "  <tbody>\n",
       "    <tr>\n",
       "      <th>0</th>\n",
       "      <td>automatic</td>\n",
       "      <td>black</td>\n",
       "      <td>2010</td>\n",
       "      <td>False</td>\n",
       "      <td>gasoline</td>\n",
       "      <td>2.5</td>\n",
       "      <td>universal</td>\n",
       "      <td>False</td>\n",
       "      <td>10900.00</td>\n",
       "    </tr>\n",
       "    <tr>\n",
       "      <th>1</th>\n",
       "      <td>automatic</td>\n",
       "      <td>blue</td>\n",
       "      <td>2002</td>\n",
       "      <td>False</td>\n",
       "      <td>gasoline</td>\n",
       "      <td>3.0</td>\n",
       "      <td>universal</td>\n",
       "      <td>False</td>\n",
       "      <td>5000.00</td>\n",
       "    </tr>\n",
       "    <tr>\n",
       "      <th>2</th>\n",
       "      <td>automatic</td>\n",
       "      <td>black</td>\n",
       "      <td>2001</td>\n",
       "      <td>False</td>\n",
       "      <td>gasoline</td>\n",
       "      <td>2.5</td>\n",
       "      <td>suv</td>\n",
       "      <td>False</td>\n",
       "      <td>2800.00</td>\n",
       "    </tr>\n",
       "    <tr>\n",
       "      <th>3</th>\n",
       "      <td>mechanical</td>\n",
       "      <td>blue</td>\n",
       "      <td>1999</td>\n",
       "      <td>False</td>\n",
       "      <td>gasoline</td>\n",
       "      <td>3.0</td>\n",
       "      <td>sedan</td>\n",
       "      <td>False</td>\n",
       "      <td>9999.00</td>\n",
       "    </tr>\n",
       "    <tr>\n",
       "      <th>4</th>\n",
       "      <td>automatic</td>\n",
       "      <td>black</td>\n",
       "      <td>2001</td>\n",
       "      <td>False</td>\n",
       "      <td>gasoline</td>\n",
       "      <td>2.5</td>\n",
       "      <td>universal</td>\n",
       "      <td>False</td>\n",
       "      <td>2134.11</td>\n",
       "    </tr>\n",
       "  </tbody>\n",
       "</table>\n",
       "</div>"
      ],
      "text/plain": [
       "  transmission  color  year_produced  engine_has_gas engine_type  \\\n",
       "0    automatic  black           2010           False    gasoline   \n",
       "1    automatic   blue           2002           False    gasoline   \n",
       "2    automatic  black           2001           False    gasoline   \n",
       "3   mechanical   blue           1999           False    gasoline   \n",
       "4    automatic  black           2001           False    gasoline   \n",
       "\n",
       "   engine_capacity  body_type  has_warranty  price_usd  \n",
       "0              2.5  universal         False   10900.00  \n",
       "1              3.0  universal         False    5000.00  \n",
       "2              2.5        suv         False    2800.00  \n",
       "3              3.0      sedan         False    9999.00  \n",
       "4              2.5  universal         False    2134.11  "
      ]
     },
     "execution_count": 17,
     "metadata": {},
     "output_type": "execute_result"
    }
   ],
   "source": [
    "cars_data.head()"
   ]
  },
  {
   "cell_type": "markdown",
   "metadata": {
    "id": "Hl6MdPSaen7t"
   },
   "source": [
    "1. Identify \"Binary Symmetric Attribute\", \"Numerical Continuous Attribute\", \"Numerical Discrete Attribute\" and \"Categorical Discrete Attribute\".\n",
    "1. Write a code to convert all categorical attributes to numerical attributes (you may use dictionary to map the values to integers).\n",
    "1. Write code to calculate correlation matrix and visualize it using a heatmap. Note that if you have sucessfully converted all the attributes to numerical variables. Comment on the results.\n",
    "1. Write code to calculate covariance matrix and print it. Comment on the results. What does covariance signify with respect to this dataset?\n"
   ]
  },
  {
   "cell_type": "markdown",
   "metadata": {
    "id": "3j1Ca8Y1en7t"
   },
   "source": [
    "**Write down the attributes you have identified.**\n",
    "\n",
    "\n"
   ]
  },
  {
   "cell_type": "code",
   "execution_count": 18,
   "metadata": {},
   "outputs": [
    {
     "data": {
      "text/plain": [
       "'\\nBinary Symmetric Attribute: transmission, engine_has_gas, has_warranty \\nNumerical Continuous Attribute: price_usd, engine_capacity\\nNumerical Discrete Attribute: year_produced\\nCategorical Discrete Attribute: color, body_type, engine_type\\n'"
      ]
     },
     "execution_count": 18,
     "metadata": {},
     "output_type": "execute_result"
    }
   ],
   "source": [
    "'''\n",
    "Binary Symmetric Attribute: transmission, engine_has_gas, has_warranty \n",
    "Numerical Continuous Attribute: price_usd, engine_capacity\n",
    "Numerical Discrete Attribute: year_produced\n",
    "Categorical Discrete Attribute: color, body_type, engine_type\n",
    "'''"
   ]
  },
  {
   "cell_type": "markdown",
   "metadata": {
    "id": "OuDPqbVken7t"
   },
   "source": [
    "#### Code to convert attributes"
   ]
  },
  {
   "cell_type": "code",
   "execution_count": 33,
   "metadata": {
    "id": "JKLmlhM4en7u"
   },
   "outputs": [
    {
     "data": {
      "text/html": [
       "<div>\n",
       "<style scoped>\n",
       "    .dataframe tbody tr th:only-of-type {\n",
       "        vertical-align: middle;\n",
       "    }\n",
       "\n",
       "    .dataframe tbody tr th {\n",
       "        vertical-align: top;\n",
       "    }\n",
       "\n",
       "    .dataframe thead th {\n",
       "        text-align: right;\n",
       "    }\n",
       "</style>\n",
       "<table border=\"1\" class=\"dataframe\">\n",
       "  <thead>\n",
       "    <tr style=\"text-align: right;\">\n",
       "      <th></th>\n",
       "      <th>transmission</th>\n",
       "      <th>color</th>\n",
       "      <th>year_produced</th>\n",
       "      <th>engine_has_gas</th>\n",
       "      <th>engine_type</th>\n",
       "      <th>engine_capacity</th>\n",
       "      <th>body_type</th>\n",
       "      <th>has_warranty</th>\n",
       "      <th>price_usd</th>\n",
       "    </tr>\n",
       "  </thead>\n",
       "  <tbody>\n",
       "    <tr>\n",
       "      <th>0</th>\n",
       "      <td>automatic</td>\n",
       "      <td>black</td>\n",
       "      <td>2010</td>\n",
       "      <td>False</td>\n",
       "      <td>gasoline</td>\n",
       "      <td>2.5</td>\n",
       "      <td>universal</td>\n",
       "      <td>False</td>\n",
       "      <td>10900.00</td>\n",
       "    </tr>\n",
       "    <tr>\n",
       "      <th>1</th>\n",
       "      <td>automatic</td>\n",
       "      <td>blue</td>\n",
       "      <td>2002</td>\n",
       "      <td>False</td>\n",
       "      <td>gasoline</td>\n",
       "      <td>3.0</td>\n",
       "      <td>universal</td>\n",
       "      <td>False</td>\n",
       "      <td>5000.00</td>\n",
       "    </tr>\n",
       "    <tr>\n",
       "      <th>2</th>\n",
       "      <td>automatic</td>\n",
       "      <td>black</td>\n",
       "      <td>2001</td>\n",
       "      <td>False</td>\n",
       "      <td>gasoline</td>\n",
       "      <td>2.5</td>\n",
       "      <td>suv</td>\n",
       "      <td>False</td>\n",
       "      <td>2800.00</td>\n",
       "    </tr>\n",
       "    <tr>\n",
       "      <th>3</th>\n",
       "      <td>mechanical</td>\n",
       "      <td>blue</td>\n",
       "      <td>1999</td>\n",
       "      <td>False</td>\n",
       "      <td>gasoline</td>\n",
       "      <td>3.0</td>\n",
       "      <td>sedan</td>\n",
       "      <td>False</td>\n",
       "      <td>9999.00</td>\n",
       "    </tr>\n",
       "    <tr>\n",
       "      <th>4</th>\n",
       "      <td>automatic</td>\n",
       "      <td>black</td>\n",
       "      <td>2001</td>\n",
       "      <td>False</td>\n",
       "      <td>gasoline</td>\n",
       "      <td>2.5</td>\n",
       "      <td>universal</td>\n",
       "      <td>False</td>\n",
       "      <td>2134.11</td>\n",
       "    </tr>\n",
       "  </tbody>\n",
       "</table>\n",
       "</div>"
      ],
      "text/plain": [
       "  transmission  color  year_produced  engine_has_gas engine_type  \\\n",
       "0    automatic  black           2010           False    gasoline   \n",
       "1    automatic   blue           2002           False    gasoline   \n",
       "2    automatic  black           2001           False    gasoline   \n",
       "3   mechanical   blue           1999           False    gasoline   \n",
       "4    automatic  black           2001           False    gasoline   \n",
       "\n",
       "   engine_capacity  body_type  has_warranty  price_usd  \n",
       "0              2.5  universal         False   10900.00  \n",
       "1              3.0  universal         False    5000.00  \n",
       "2              2.5        suv         False    2800.00  \n",
       "3              3.0      sedan         False    9999.00  \n",
       "4              2.5  universal         False    2134.11  "
      ]
     },
     "execution_count": 33,
     "metadata": {},
     "output_type": "execute_result"
    }
   ],
   "source": [
    "#Code to convert attributes\n",
    "co = ['transmission', 'engine_has_gas', 'has_warranty', 'color', 'body_type', 'engine_type']\n",
    "from sklearn.preprocessing import LabelEncoder \n",
    "for x,col in enumerate(co):\n",
    "    cat = LabelEncoder().fit_transform(cars_data[col])\n",
    "    cars_data.column = cat\n",
    "cars_data.head()"
   ]
  },
  {
   "cell_type": "markdown",
   "metadata": {
    "id": "zOXddsYken7u"
   },
   "source": [
    "#### Calculate correlation"
   ]
  },
  {
   "cell_type": "code",
   "execution_count": 20,
   "metadata": {
    "id": "x2L1ajVDmudd"
   },
   "outputs": [
    {
     "data": {
      "text/html": [
       "<div>\n",
       "<style scoped>\n",
       "    .dataframe tbody tr th:only-of-type {\n",
       "        vertical-align: middle;\n",
       "    }\n",
       "\n",
       "    .dataframe tbody tr th {\n",
       "        vertical-align: top;\n",
       "    }\n",
       "\n",
       "    .dataframe thead th {\n",
       "        text-align: right;\n",
       "    }\n",
       "</style>\n",
       "<table border=\"1\" class=\"dataframe\">\n",
       "  <thead>\n",
       "    <tr style=\"text-align: right;\">\n",
       "      <th></th>\n",
       "      <th>year_produced</th>\n",
       "      <th>engine_capacity</th>\n",
       "      <th>price_usd</th>\n",
       "    </tr>\n",
       "  </thead>\n",
       "  <tbody>\n",
       "    <tr>\n",
       "      <th>year_produced</th>\n",
       "      <td>1.000000</td>\n",
       "      <td>0.005059</td>\n",
       "      <td>0.705511</td>\n",
       "    </tr>\n",
       "    <tr>\n",
       "      <th>engine_capacity</th>\n",
       "      <td>0.005059</td>\n",
       "      <td>1.000000</td>\n",
       "      <td>0.296597</td>\n",
       "    </tr>\n",
       "    <tr>\n",
       "      <th>price_usd</th>\n",
       "      <td>0.705511</td>\n",
       "      <td>0.296597</td>\n",
       "      <td>1.000000</td>\n",
       "    </tr>\n",
       "  </tbody>\n",
       "</table>\n",
       "</div>"
      ],
      "text/plain": [
       "                 year_produced  engine_capacity  price_usd\n",
       "year_produced         1.000000         0.005059   0.705511\n",
       "engine_capacity       0.005059         1.000000   0.296597\n",
       "price_usd             0.705511         0.296597   1.000000"
      ]
     },
     "execution_count": 20,
     "metadata": {},
     "output_type": "execute_result"
    }
   ],
   "source": [
    "#Correlation\n",
    "co = ['year_produced','engine_capacity','price_usd']\n",
    "correlation = cars_data[co].corr()\n",
    "correlation"
   ]
  },
  {
   "cell_type": "markdown",
   "metadata": {
    "id": "L439ACsHen7u"
   },
   "source": [
    "#### Heatmap "
   ]
  },
  {
   "cell_type": "code",
   "execution_count": 21,
   "metadata": {
    "id": "bSg6i4q5en7u"
   },
   "outputs": [
    {
     "data": {
      "image/png": "[encoded data removed]",
      "text/plain": [
       "<Figure size 432x288 with 2 Axes>"
      ]
     },
     "metadata": {
      "needs_background": "light"
     },
     "output_type": "display_data"
    }
   ],
   "source": [
    "#Heatmap \n",
    "ax = sns.heatmap(correlation, annot=True, cmap=\"YlGnBu\")"
   ]
  },
  {
   "cell_type": "markdown",
   "metadata": {
    "id": "pT7TJOg9en7v"
   },
   "source": [
    "**Comments on the Heatmap above**\n",
    "\n",
    "\n"
   ]
  },
  {
   "cell_type": "code",
   "execution_count": 22,
   "metadata": {
    "id": "CoZJNM3oen7v"
   },
   "outputs": [],
   "source": [
    "#Comments \n",
    "#Years_produced and price_usd have strong correlation. Engine capacity and price_usd have medium, while engine capacity and years has negligible correlation."
   ]
  },
  {
   "cell_type": "markdown",
   "metadata": {
    "id": "VNHT2wDwen7v"
   },
   "source": [
    "#### Caclulate covariance matrix and print it"
   ]
  },
  {
   "cell_type": "code",
   "execution_count": 23,
   "metadata": {
    "id": "Sj_SWIm9m1mL"
   },
   "outputs": [
    {
     "data": {
      "text/html": [
       "<div>\n",
       "<style scoped>\n",
       "    .dataframe tbody tr th:only-of-type {\n",
       "        vertical-align: middle;\n",
       "    }\n",
       "\n",
       "    .dataframe tbody tr th {\n",
       "        vertical-align: top;\n",
       "    }\n",
       "\n",
       "    .dataframe thead th {\n",
       "        text-align: right;\n",
       "    }\n",
       "</style>\n",
       "<table border=\"1\" class=\"dataframe\">\n",
       "  <thead>\n",
       "    <tr style=\"text-align: right;\">\n",
       "      <th></th>\n",
       "      <th>year_produced</th>\n",
       "      <th>engine_capacity</th>\n",
       "      <th>price_usd</th>\n",
       "    </tr>\n",
       "  </thead>\n",
       "  <tbody>\n",
       "    <tr>\n",
       "      <th>year_produced</th>\n",
       "      <td>65.056009</td>\n",
       "      <td>0.027382</td>\n",
       "      <td>3.657913e+04</td>\n",
       "    </tr>\n",
       "    <tr>\n",
       "      <th>engine_capacity</th>\n",
       "      <td>0.027382</td>\n",
       "      <td>0.450479</td>\n",
       "      <td>1.279058e+03</td>\n",
       "    </tr>\n",
       "    <tr>\n",
       "      <th>price_usd</th>\n",
       "      <td>36579.128258</td>\n",
       "      <td>1279.058439</td>\n",
       "      <td>4.132114e+07</td>\n",
       "    </tr>\n",
       "  </tbody>\n",
       "</table>\n",
       "</div>"
      ],
      "text/plain": [
       "                 year_produced  engine_capacity     price_usd\n",
       "year_produced        65.056009         0.027382  3.657913e+04\n",
       "engine_capacity       0.027382         0.450479  1.279058e+03\n",
       "price_usd         36579.128258      1279.058439  4.132114e+07"
      ]
     },
     "execution_count": 23,
     "metadata": {},
     "output_type": "execute_result"
    }
   ],
   "source": [
    "#Covariance Matrix\n",
    "cars_data[co].cov()"
   ]
  },
  {
   "cell_type": "markdown",
   "metadata": {
    "id": "lJk0J88een7w"
   },
   "source": [
    "**Comments on the Covariance**\n",
    "\n",
    "\n",
    "\n"
   ]
  },
  {
   "cell_type": "code",
   "execution_count": 24,
   "metadata": {
    "id": "fE_NteOwen7w"
   },
   "outputs": [
    {
     "ename": "SyntaxError",
     "evalue": "invalid syntax (2466106360.py, line 2)",
     "output_type": "error",
     "traceback": [
      "\u001b[1;36m  File \u001b[1;32m\"C:\\Users\\shahh\\AppData\\Local\\Temp\\ipykernel_14788\\2466106360.py\"\u001b[1;36m, line \u001b[1;32m2\u001b[0m\n\u001b[1;33m    AS all cov are positives, so increase in the one attribute will casue increase in others too.\u001b[0m\n\u001b[1;37m       ^\u001b[0m\n\u001b[1;31mSyntaxError\u001b[0m\u001b[1;31m:\u001b[0m invalid syntax\n"
     ]
    }
   ],
   "source": [
    "#Comments \n",
    "AS all cov are positives, so increase in the one attribute will casue increase in others too."
   ]
  },
  {
   "cell_type": "markdown",
   "metadata": {
    "id": "eCX6bMPnen7w"
   },
   "source": [
    "# Part 3: Chi Square Test(3 questions, 5 marks each)\n",
    "1. Create a contigency table for Engine type and Transmission columns.\n",
    "1. Comment on the above results\n",
    "1. Perform a chi square test for Engine Type and Transmission columns.\n",
    "1. Comment on the above results\n",
    "1. Create a histogram of the Color Column. \n",
    "1. Comment on the above results"
   ]
  },
  {
   "cell_type": "code",
   "execution_count": 25,
   "metadata": {
    "id": "d1eEP4w5en7w"
   },
   "outputs": [
    {
     "data": {
      "text/html": [
       "<div>\n",
       "<style scoped>\n",
       "    .dataframe tbody tr th:only-of-type {\n",
       "        vertical-align: middle;\n",
       "    }\n",
       "\n",
       "    .dataframe tbody tr th {\n",
       "        vertical-align: top;\n",
       "    }\n",
       "\n",
       "    .dataframe thead th {\n",
       "        text-align: right;\n",
       "    }\n",
       "</style>\n",
       "<table border=\"1\" class=\"dataframe\">\n",
       "  <thead>\n",
       "    <tr style=\"text-align: right;\">\n",
       "      <th></th>\n",
       "      <th>transmission</th>\n",
       "      <th>color</th>\n",
       "      <th>year_produced</th>\n",
       "      <th>engine_has_gas</th>\n",
       "      <th>engine_type</th>\n",
       "      <th>engine_capacity</th>\n",
       "      <th>body_type</th>\n",
       "      <th>has_warranty</th>\n",
       "      <th>price_usd</th>\n",
       "    </tr>\n",
       "  </thead>\n",
       "  <tbody>\n",
       "    <tr>\n",
       "      <th>0</th>\n",
       "      <td>automatic</td>\n",
       "      <td>black</td>\n",
       "      <td>2010</td>\n",
       "      <td>False</td>\n",
       "      <td>gasoline</td>\n",
       "      <td>2.5</td>\n",
       "      <td>universal</td>\n",
       "      <td>False</td>\n",
       "      <td>10900.00</td>\n",
       "    </tr>\n",
       "    <tr>\n",
       "      <th>1</th>\n",
       "      <td>automatic</td>\n",
       "      <td>blue</td>\n",
       "      <td>2002</td>\n",
       "      <td>False</td>\n",
       "      <td>gasoline</td>\n",
       "      <td>3.0</td>\n",
       "      <td>universal</td>\n",
       "      <td>False</td>\n",
       "      <td>5000.00</td>\n",
       "    </tr>\n",
       "    <tr>\n",
       "      <th>2</th>\n",
       "      <td>automatic</td>\n",
       "      <td>black</td>\n",
       "      <td>2001</td>\n",
       "      <td>False</td>\n",
       "      <td>gasoline</td>\n",
       "      <td>2.5</td>\n",
       "      <td>suv</td>\n",
       "      <td>False</td>\n",
       "      <td>2800.00</td>\n",
       "    </tr>\n",
       "    <tr>\n",
       "      <th>3</th>\n",
       "      <td>mechanical</td>\n",
       "      <td>blue</td>\n",
       "      <td>1999</td>\n",
       "      <td>False</td>\n",
       "      <td>gasoline</td>\n",
       "      <td>3.0</td>\n",
       "      <td>sedan</td>\n",
       "      <td>False</td>\n",
       "      <td>9999.00</td>\n",
       "    </tr>\n",
       "    <tr>\n",
       "      <th>4</th>\n",
       "      <td>automatic</td>\n",
       "      <td>black</td>\n",
       "      <td>2001</td>\n",
       "      <td>False</td>\n",
       "      <td>gasoline</td>\n",
       "      <td>2.5</td>\n",
       "      <td>universal</td>\n",
       "      <td>False</td>\n",
       "      <td>2134.11</td>\n",
       "    </tr>\n",
       "  </tbody>\n",
       "</table>\n",
       "</div>"
      ],
      "text/plain": [
       "  transmission  color  year_produced  engine_has_gas engine_type  \\\n",
       "0    automatic  black           2010           False    gasoline   \n",
       "1    automatic   blue           2002           False    gasoline   \n",
       "2    automatic  black           2001           False    gasoline   \n",
       "3   mechanical   blue           1999           False    gasoline   \n",
       "4    automatic  black           2001           False    gasoline   \n",
       "\n",
       "   engine_capacity  body_type  has_warranty  price_usd  \n",
       "0              2.5  universal         False   10900.00  \n",
       "1              3.0  universal         False    5000.00  \n",
       "2              2.5        suv         False    2800.00  \n",
       "3              3.0      sedan         False    9999.00  \n",
       "4              2.5  universal         False    2134.11  "
      ]
     },
     "execution_count": 25,
     "metadata": {},
     "output_type": "execute_result"
    }
   ],
   "source": [
    "# Do not modify this\n",
    "cars_dataset = pd.read_csv('cars_dataset.csv',encoding = \"ISO-8859-1\")\n",
    "cars_dataset.head()"
   ]
  },
  {
   "cell_type": "markdown",
   "metadata": {
    "id": "sLZ35rvVen7x"
   },
   "source": [
    "#### Create a contigency table for Engine Type and Transmission columns and comment on the results in a markdown"
   ]
  },
  {
   "cell_type": "code",
   "execution_count": 26,
   "metadata": {
    "id": "PhudTn4gnB5N"
   },
   "outputs": [
    {
     "data": {
      "text/html": [
       "<div>\n",
       "<style scoped>\n",
       "    .dataframe tbody tr th:only-of-type {\n",
       "        vertical-align: middle;\n",
       "    }\n",
       "\n",
       "    .dataframe tbody tr th {\n",
       "        vertical-align: top;\n",
       "    }\n",
       "\n",
       "    .dataframe thead th {\n",
       "        text-align: right;\n",
       "    }\n",
       "</style>\n",
       "<table border=\"1\" class=\"dataframe\">\n",
       "  <thead>\n",
       "    <tr style=\"text-align: right;\">\n",
       "      <th>transmission</th>\n",
       "      <th>automatic</th>\n",
       "      <th>mechanical</th>\n",
       "    </tr>\n",
       "    <tr>\n",
       "      <th>engine_type</th>\n",
       "      <th></th>\n",
       "      <th></th>\n",
       "    </tr>\n",
       "  </thead>\n",
       "  <tbody>\n",
       "    <tr>\n",
       "      <th>diesel</th>\n",
       "      <td>3154</td>\n",
       "      <td>9720</td>\n",
       "    </tr>\n",
       "    <tr>\n",
       "      <th>electric</th>\n",
       "      <td>10</td>\n",
       "      <td>0</td>\n",
       "    </tr>\n",
       "    <tr>\n",
       "      <th>gasoline</th>\n",
       "      <td>9734</td>\n",
       "      <td>15913</td>\n",
       "    </tr>\n",
       "  </tbody>\n",
       "</table>\n",
       "</div>"
      ],
      "text/plain": [
       "transmission  automatic  mechanical\n",
       "engine_type                        \n",
       "diesel             3154        9720\n",
       "electric             10           0\n",
       "gasoline           9734       15913"
      ]
     },
     "execution_count": 26,
     "metadata": {},
     "output_type": "execute_result"
    }
   ],
   "source": [
    "#Contigency Table\n",
    "contigency = pd.crosstab(cars_dataset.engine_type, cars_dataset.transmission)\n",
    "contigency"
   ]
  },
  {
   "cell_type": "markdown",
   "metadata": {
    "id": "AoFwtIbUen7x"
   },
   "source": [
    "#### Perform a chi square test for Engine type and Transmission columns and comment on the results in a markdown"
   ]
  },
  {
   "cell_type": "code",
   "execution_count": 31,
   "metadata": {
    "id": "FNBzHVl3nEwY"
   },
   "outputs": [
    {
     "name": "stdout",
     "output_type": "stream",
     "text": [
      "2.3809973533799987e-156\n"
     ]
    }
   ],
   "source": [
    "#Chi square\n",
    "from scipy.stats import chi2_contingency\n",
    "chi_val, p_val, dof, expected = chi2_contingency(contigency)\n",
    "print (p_val)"
   ]
  },
  {
   "cell_type": "code",
   "execution_count": null,
   "metadata": {},
   "outputs": [],
   "source": [
    "Less p_val is showing that both columns are not dependents on each other"
   ]
  },
  {
   "cell_type": "markdown",
   "metadata": {
    "id": "TRfzSs6Oen7x"
   },
   "source": [
    "#### Create a histogram of the Color Column. Comment on the above results in a markdown"
   ]
  },
  {
   "cell_type": "code",
   "execution_count": 30,
   "metadata": {
    "id": "3rr8mwQUfj1A"
   },
   "outputs": [
    {
     "name": "stderr",
     "output_type": "stream",
     "text": [
      "c:\\users\\shahh\\appdata\\local\\programs\\python\\python39\\lib\\site-packages\\seaborn\\_decorators.py:36: FutureWarning: Pass the following variable as a keyword arg: x. From version 0.12, the only valid positional argument will be `data`, and passing other arguments without an explicit keyword will result in an error or misinterpretation.\n",
      "  warnings.warn(\n"
     ]
    },
    {
     "data": {
      "image/png": "[encoded data removed]",
      "text/plain": [
       "<Figure size 432x288 with 1 Axes>"
      ]
     },
     "metadata": {
      "needs_background": "light"
     },
     "output_type": "display_data"
    }
   ],
   "source": [
    "#Histogram\n",
    "import matplotlib.pyplot as plt\n",
    "a = sns.countplot(cars_data['color'])\n",
    "plt.xticks(rotation = 45)\n",
    "plt.show()"
   ]
  },
  {
   "cell_type": "code",
   "execution_count": null,
   "metadata": {},
   "outputs": [],
   "source": []
  },
  {
   "cell_type": "code",
   "execution_count": null,
   "metadata": {},
   "outputs": [],
   "source": []
  }
 ],
 "metadata": {
  "colab": {
   "collapsed_sections": [],
   "name": "Rollnumber_firstname_lastname_A1.ipynb",
   "provenance": []
  },
  "kernelspec": {
   "display_name": "Python 3 (ipykernel)",
   "language": "python",
   "name": "python3"
  },
  "language_info": {
   "codemirror_mode": {
    "name": "ipython",
    "version": 3
   },
   "file_extension": ".py",
   "mimetype": "text/x-python",
   "name": "python",
   "nbconvert_exporter": "python",
   "pygments_lexer": "ipython3",
   "version": "3.9.5"
  }
 },
 "nbformat": 4,
 "nbformat_minor": 1
}
