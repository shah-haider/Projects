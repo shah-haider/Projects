{
 "cells": [
  {
   "cell_type": "markdown",
   "metadata": {},
   "source": [
    "### Q1) Outlier Detection (20 Marks)\n",
    "\n",
    "Outlier detection (also known as 'anomaly detection') is the process of finding observation points that deviate from other observations. Such observation points are called outliers or anomalies. In this question, you will employ simple visualization and statistical techniques to find the outliers and then, you will apply outlier detection algorithms.\n",
    "\n",
    "You will be using customer_segmentation.csv dataset.\n",
    "\n",
    "<strong>Note: You are required to submit the html files of both Q1 and Q2. Format should be q1_firsname_lastname_rollno.html</strong>"
   ]
  },
  {
   "cell_type": "code",
   "execution_count": 122,
   "metadata": {},
   "outputs": [],
   "source": [
    "import seaborn as sns\n",
    "import pandas as pd\n",
    "import numpy as np\n",
    "import matplotlib.pyplot as plt\n",
    "from scipy.cluster.vq import kmeans\n",
    "from sklearn.neighbors import LocalOutlierFactor\n",
    "from matplotlib import cm\n"
   ]
  },
  {
   "cell_type": "markdown",
   "metadata": {},
   "source": [
    "### Loading the dataset"
   ]
  },
  {
   "cell_type": "code",
   "execution_count": 123,
   "metadata": {},
   "outputs": [
    {
     "data": {
      "text/html": [
       "<div>\n",
       "<style scoped>\n",
       "    .dataframe tbody tr th:only-of-type {\n",
       "        vertical-align: middle;\n",
       "    }\n",
       "\n",
       "    .dataframe tbody tr th {\n",
       "        vertical-align: top;\n",
       "    }\n",
       "\n",
       "    .dataframe thead th {\n",
       "        text-align: right;\n",
       "    }\n",
       "</style>\n",
       "<table border=\"1\" class=\"dataframe\">\n",
       "  <thead>\n",
       "    <tr style=\"text-align: right;\">\n",
       "      <th></th>\n",
       "      <th>Customer Id</th>\n",
       "      <th>Age</th>\n",
       "      <th>Edu</th>\n",
       "      <th>Years Employed</th>\n",
       "      <th>Income</th>\n",
       "      <th>Card Debt</th>\n",
       "      <th>Other Debt</th>\n",
       "      <th>Defaulted</th>\n",
       "      <th>Address</th>\n",
       "      <th>DebtIncomeRatio</th>\n",
       "    </tr>\n",
       "  </thead>\n",
       "  <tbody>\n",
       "    <tr>\n",
       "      <th>0</th>\n",
       "      <td>1</td>\n",
       "      <td>41</td>\n",
       "      <td>2</td>\n",
       "      <td>6</td>\n",
       "      <td>19</td>\n",
       "      <td>0.124</td>\n",
       "      <td>1.073</td>\n",
       "      <td>0.0</td>\n",
       "      <td>NBA001</td>\n",
       "      <td>6.3</td>\n",
       "    </tr>\n",
       "    <tr>\n",
       "      <th>1</th>\n",
       "      <td>2</td>\n",
       "      <td>47</td>\n",
       "      <td>1</td>\n",
       "      <td>26</td>\n",
       "      <td>100</td>\n",
       "      <td>4.582</td>\n",
       "      <td>8.218</td>\n",
       "      <td>0.0</td>\n",
       "      <td>NBA021</td>\n",
       "      <td>12.8</td>\n",
       "    </tr>\n",
       "    <tr>\n",
       "      <th>2</th>\n",
       "      <td>3</td>\n",
       "      <td>33</td>\n",
       "      <td>2</td>\n",
       "      <td>10</td>\n",
       "      <td>57</td>\n",
       "      <td>6.111</td>\n",
       "      <td>5.802</td>\n",
       "      <td>1.0</td>\n",
       "      <td>NBA013</td>\n",
       "      <td>20.9</td>\n",
       "    </tr>\n",
       "    <tr>\n",
       "      <th>3</th>\n",
       "      <td>4</td>\n",
       "      <td>29</td>\n",
       "      <td>2</td>\n",
       "      <td>4</td>\n",
       "      <td>19</td>\n",
       "      <td>0.681</td>\n",
       "      <td>0.516</td>\n",
       "      <td>0.0</td>\n",
       "      <td>NBA009</td>\n",
       "      <td>6.3</td>\n",
       "    </tr>\n",
       "    <tr>\n",
       "      <th>4</th>\n",
       "      <td>5</td>\n",
       "      <td>47</td>\n",
       "      <td>1</td>\n",
       "      <td>31</td>\n",
       "      <td>253</td>\n",
       "      <td>9.308</td>\n",
       "      <td>8.908</td>\n",
       "      <td>0.0</td>\n",
       "      <td>NBA008</td>\n",
       "      <td>7.2</td>\n",
       "    </tr>\n",
       "    <tr>\n",
       "      <th>5</th>\n",
       "      <td>6</td>\n",
       "      <td>40</td>\n",
       "      <td>1</td>\n",
       "      <td>23</td>\n",
       "      <td>81</td>\n",
       "      <td>0.998</td>\n",
       "      <td>7.831</td>\n",
       "      <td>NaN</td>\n",
       "      <td>NBA016</td>\n",
       "      <td>10.9</td>\n",
       "    </tr>\n",
       "    <tr>\n",
       "      <th>6</th>\n",
       "      <td>7</td>\n",
       "      <td>38</td>\n",
       "      <td>2</td>\n",
       "      <td>4</td>\n",
       "      <td>56</td>\n",
       "      <td>0.442</td>\n",
       "      <td>0.454</td>\n",
       "      <td>0.0</td>\n",
       "      <td>NBA013</td>\n",
       "      <td>1.6</td>\n",
       "    </tr>\n",
       "    <tr>\n",
       "      <th>7</th>\n",
       "      <td>8</td>\n",
       "      <td>42</td>\n",
       "      <td>3</td>\n",
       "      <td>0</td>\n",
       "      <td>64</td>\n",
       "      <td>0.279</td>\n",
       "      <td>3.945</td>\n",
       "      <td>0.0</td>\n",
       "      <td>NBA009</td>\n",
       "      <td>6.6</td>\n",
       "    </tr>\n",
       "    <tr>\n",
       "      <th>8</th>\n",
       "      <td>9</td>\n",
       "      <td>26</td>\n",
       "      <td>1</td>\n",
       "      <td>5</td>\n",
       "      <td>18</td>\n",
       "      <td>0.575</td>\n",
       "      <td>2.215</td>\n",
       "      <td>NaN</td>\n",
       "      <td>NBA006</td>\n",
       "      <td>15.5</td>\n",
       "    </tr>\n",
       "    <tr>\n",
       "      <th>9</th>\n",
       "      <td>10</td>\n",
       "      <td>47</td>\n",
       "      <td>3</td>\n",
       "      <td>23</td>\n",
       "      <td>115</td>\n",
       "      <td>0.653</td>\n",
       "      <td>3.947</td>\n",
       "      <td>0.0</td>\n",
       "      <td>NBA011</td>\n",
       "      <td>4.0</td>\n",
       "    </tr>\n",
       "    <tr>\n",
       "      <th>10</th>\n",
       "      <td>11</td>\n",
       "      <td>44</td>\n",
       "      <td>3</td>\n",
       "      <td>8</td>\n",
       "      <td>88</td>\n",
       "      <td>0.285</td>\n",
       "      <td>5.083</td>\n",
       "      <td>1.0</td>\n",
       "      <td>NBA010</td>\n",
       "      <td>6.1</td>\n",
       "    </tr>\n",
       "    <tr>\n",
       "      <th>11</th>\n",
       "      <td>12</td>\n",
       "      <td>34</td>\n",
       "      <td>2</td>\n",
       "      <td>9</td>\n",
       "      <td>40</td>\n",
       "      <td>0.374</td>\n",
       "      <td>0.266</td>\n",
       "      <td>NaN</td>\n",
       "      <td>NBA003</td>\n",
       "      <td>1.6</td>\n",
       "    </tr>\n",
       "    <tr>\n",
       "      <th>12</th>\n",
       "      <td>13</td>\n",
       "      <td>24</td>\n",
       "      <td>1</td>\n",
       "      <td>7</td>\n",
       "      <td>18</td>\n",
       "      <td>0.526</td>\n",
       "      <td>0.643</td>\n",
       "      <td>0.0</td>\n",
       "      <td>NBA000</td>\n",
       "      <td>6.5</td>\n",
       "    </tr>\n",
       "    <tr>\n",
       "      <th>13</th>\n",
       "      <td>14</td>\n",
       "      <td>46</td>\n",
       "      <td>1</td>\n",
       "      <td>6</td>\n",
       "      <td>30</td>\n",
       "      <td>1.415</td>\n",
       "      <td>3.865</td>\n",
       "      <td>NaN</td>\n",
       "      <td>NBA019</td>\n",
       "      <td>17.6</td>\n",
       "    </tr>\n",
       "    <tr>\n",
       "      <th>14</th>\n",
       "      <td>15</td>\n",
       "      <td>28</td>\n",
       "      <td>3</td>\n",
       "      <td>2</td>\n",
       "      <td>20</td>\n",
       "      <td>0.233</td>\n",
       "      <td>1.647</td>\n",
       "      <td>1.0</td>\n",
       "      <td>NBA000</td>\n",
       "      <td>9.4</td>\n",
       "    </tr>\n",
       "  </tbody>\n",
       "</table>\n",
       "</div>"
      ],
      "text/plain": [
       "    Customer Id  Age  Edu  Years Employed  Income  Card Debt  Other Debt  \\\n",
       "0             1   41    2               6      19      0.124       1.073   \n",
       "1             2   47    1              26     100      4.582       8.218   \n",
       "2             3   33    2              10      57      6.111       5.802   \n",
       "3             4   29    2               4      19      0.681       0.516   \n",
       "4             5   47    1              31     253      9.308       8.908   \n",
       "5             6   40    1              23      81      0.998       7.831   \n",
       "6             7   38    2               4      56      0.442       0.454   \n",
       "7             8   42    3               0      64      0.279       3.945   \n",
       "8             9   26    1               5      18      0.575       2.215   \n",
       "9            10   47    3              23     115      0.653       3.947   \n",
       "10           11   44    3               8      88      0.285       5.083   \n",
       "11           12   34    2               9      40      0.374       0.266   \n",
       "12           13   24    1               7      18      0.526       0.643   \n",
       "13           14   46    1               6      30      1.415       3.865   \n",
       "14           15   28    3               2      20      0.233       1.647   \n",
       "\n",
       "    Defaulted Address  DebtIncomeRatio  \n",
       "0         0.0  NBA001              6.3  \n",
       "1         0.0  NBA021             12.8  \n",
       "2         1.0  NBA013             20.9  \n",
       "3         0.0  NBA009              6.3  \n",
       "4         0.0  NBA008              7.2  \n",
       "5         NaN  NBA016             10.9  \n",
       "6         0.0  NBA013              1.6  \n",
       "7         0.0  NBA009              6.6  \n",
       "8         NaN  NBA006             15.5  \n",
       "9         0.0  NBA011              4.0  \n",
       "10        1.0  NBA010              6.1  \n",
       "11        NaN  NBA003              1.6  \n",
       "12        0.0  NBA000              6.5  \n",
       "13        NaN  NBA019             17.6  \n",
       "14        1.0  NBA000              9.4  "
      ]
     },
     "execution_count": 123,
     "metadata": {},
     "output_type": "execute_result"
    }
   ],
   "source": [
    "#loading the dataset\n",
    "data_df = pd.read_csv(\"customer_segmentation.csv\")\n",
    "data_df.head(15)"
   ]
  },
  {
   "cell_type": "code",
   "execution_count": null,
   "metadata": {},
   "outputs": [],
   "source": []
  },
  {
   "cell_type": "code",
   "execution_count": 124,
   "metadata": {},
   "outputs": [],
   "source": [
    "data = data_df.copy()\n",
    "data = data.dropna()"
   ]
  },
  {
   "cell_type": "markdown",
   "metadata": {},
   "source": [
    "### Outlier Visualization"
   ]
  },
  {
   "cell_type": "markdown",
   "metadata": {},
   "source": [
    "### **Box-Plots**"
   ]
  },
  {
   "cell_type": "markdown",
   "metadata": {},
   "source": [
    "Plot box-plots for \"**Income**\" and \"**Card Debt**\" attributes and comment on the results. "
   ]
  },
  {
   "cell_type": "code",
   "execution_count": 125,
   "metadata": {},
   "outputs": [
    {
     "data": {
      "image/png": "[encoded data removed]",
      "text/plain": [
       "<Figure size 432x288 with 1 Axes>"
      ]
     },
     "metadata": {
      "needs_background": "light"
     },
     "output_type": "display_data"
    }
   ],
   "source": [
    "plot = sns.boxplot(x = data['Income'])"
   ]
  },
  {
   "cell_type": "code",
   "execution_count": 126,
   "metadata": {},
   "outputs": [
    {
     "data": {
      "image/png": "[encoded data removed]",
      "text/plain": [
       "<Figure size 432x288 with 1 Axes>"
      ]
     },
     "metadata": {
      "needs_background": "light"
     },
     "output_type": "display_data"
    }
   ],
   "source": [
    "plot = sns.boxplot(x = data['Card Debt'])"
   ]
  },
  {
   "cell_type": "markdown",
   "metadata": {},
   "source": [
    "Both Income and Card Debit have good amount outliers. Major reason is that their centres (medians) are towards too much Right side (away form center)."
   ]
  },
  {
   "cell_type": "markdown",
   "metadata": {},
   "source": [
    "### **Scatter-plot**"
   ]
  },
  {
   "cell_type": "markdown",
   "metadata": {},
   "source": [
    "Plot scatter-plot for **Income Vs DebtIncomeRatio**. Comment if it shows any outliers. Use matplotlib.pyplot library for scatter-plot.\n"
   ]
  },
  {
   "cell_type": "code",
   "execution_count": 127,
   "metadata": {},
   "outputs": [
    {
     "data": {
      "image/png": "[encoded data removed]",
      "text/plain": [
       "<Figure size 432x288 with 1 Axes>"
      ]
     },
     "metadata": {
      "needs_background": "light"
     },
     "output_type": "display_data"
    }
   ],
   "source": [
    "plt.scatter(data['Income'], data['DebtIncomeRatio'], alpha=0.5)\n",
    "plt.xlabel('Income')\n",
    "plt.ylabel('DebtIncomeRatio')\n",
    "plt.show()"
   ]
  },
  {
   "cell_type": "markdown",
   "metadata": {},
   "source": [
    "I can observe one significant outlier in Age column (400>)"
   ]
  },
  {
   "cell_type": "markdown",
   "metadata": {},
   "source": [
    "### Outlier Detection "
   ]
  },
  {
   "cell_type": "markdown",
   "metadata": {},
   "source": [
    "### **Z_score**"
   ]
  },
  {
   "cell_type": "markdown",
   "metadata": {},
   "source": [
    "Z-score tells how many standard deviations is a certain data point away from the mean. For **Age,Other_Debt and DebtIncomeRatio**, output the list of values that are identified as outliers on the basis of their z-scores."
   ]
  },
  {
   "cell_type": "code",
   "execution_count": 128,
   "metadata": {},
   "outputs": [],
   "source": [
    "from scipy import stats\n",
    "import numpy as np\n",
    " \n",
    "z = np.abs(stats.zscore(data['Age']))\n",
    "z1 = np.abs(stats.zscore(data['Other Debt']))\n",
    "z2 = np.abs(stats.zscore(data['DebtIncomeRatio'])) \n"
   ]
  },
  {
   "cell_type": "markdown",
   "metadata": {},
   "source": [
    "* **What z-score threshold did you use to detect the outliers and why?**"
   ]
  },
  {
   "cell_type": "code",
   "execution_count": 129,
   "metadata": {},
   "outputs": [
    {
     "name": "stdout",
     "output_type": "stream",
     "text": [
      "(array([], dtype=int64),)\n",
      "(array([], dtype=int64),)\n",
      "(array([ 17,  61,  63, 157, 253, 280, 286, 360, 366, 370, 409, 422, 437,\n",
      "       464, 467], dtype=int64),)\n",
      "(array([ 36, 409, 480, 486, 537, 678, 697], dtype=int64),)\n"
     ]
    }
   ],
   "source": [
    "threshold = 3\n",
    "print(np.where(z > 3))\n",
    "print(np.where(z > 2.7))\n",
    "print(np.where(z1 > 3))\n",
    "print(np.where(z2 > 3))\n"
   ]
  },
  {
   "cell_type": "markdown",
   "metadata": {},
   "source": [
    "I have set it to 3 becasue it will capture those points which are out of our 99% data range. Age has no significant outliers even at zscore of 2.7. While, Other_Debt adn DebtIncomeRation have some outliers."
   ]
  },
  {
   "cell_type": "markdown",
   "metadata": {},
   "source": [
    "### ***IQR***"
   ]
  },
  {
   "cell_type": "markdown",
   "metadata": {},
   "source": [
    "For **Age,Other_Debt and DebtIncomeRatio**, output the list of values that are identified as outliers on the basis of their IQR values."
   ]
  },
  {
   "cell_type": "markdown",
   "metadata": {},
   "source": [
    "For this, calculate the first (q1) and third quartile (q3). An outlier is then a data point  that lies outside the interquartile range. That is:\n",
    "*   *Lower outlier= Q1 - (k x IQR)*\n",
    "*   *Higher outlier= Q3 + (k x IQR)*\n",
    "\n",
    "Choose an appropriate 'k' for this part."
   ]
  },
  {
   "cell_type": "code",
   "execution_count": 130,
   "metadata": {},
   "outputs": [],
   "source": [
    "#Write code here\n",
    "Q1 = np.percentile(data['Age'], 25, interpolation = 'midpoint')\n",
    "Q3 = np.percentile(data['Age'], 75, interpolation = 'midpoint')\n",
    "IQR = Q3 - Q1\n",
    "K = 1.5\n",
    "low_lim = Q1 - K * IQR\n",
    "up_lim = Q3 + K * IQR"
   ]
  },
  {
   "cell_type": "code",
   "execution_count": 131,
   "metadata": {},
   "outputs": [
    {
     "name": "stdout",
     "output_type": "stream",
     "text": [
      "no Outlier\n"
     ]
    }
   ],
   "source": [
    "age =[]\n",
    "for x in data['Age']:\n",
    "    if ((x> up_lim) or (x<low_lim)):\n",
    "         age.append(x)\n",
    "if age == []:\n",
    "    print(\"no Outlier\")\n",
    "else:\n",
    "    print(age)"
   ]
  },
  {
   "cell_type": "code",
   "execution_count": 132,
   "metadata": {},
   "outputs": [],
   "source": [
    "#Write code here\n",
    "Q11 = np.percentile(data['Other Debt'], 25, interpolation = 'midpoint')\n",
    "Q31 = np.percentile(data['Other Debt'], 75, interpolation = 'midpoint')\n",
    "IQR1 = Q31 - Q11\n",
    "K1 = 1.5\n",
    "low_lim1 = Q11 - K1 * IQR1\n",
    "up_lim1 = Q31 + K1 * IQR1"
   ]
  },
  {
   "cell_type": "code",
   "execution_count": 133,
   "metadata": {},
   "outputs": [
    {
     "name": "stdout",
     "output_type": "stream",
     "text": [
      "[8.908, 18.257, 10.184, 9.555, 9.459, 10.754, 14.453, 15.405, 11.874, 9.251, 12.076, 23.104, 8.6, 9.044, 9.737, 11.894, 20.616, 11.724, 11.042, 17.185, 13.051, 12.659, 9.591, 8.502, 15.149, 17.799, 18.269, 9.391, 12.714, 14.719, 17.204, 12.959, 8.399, 16.668, 27.034, 9.704, 9.716, 9.499, 11.663, 12.422, 10.98, 10.631, 9.975, 10.811, 9.198, 8.631, 9.286, 8.362]\n"
     ]
    }
   ],
   "source": [
    "Other_Debt =[]\n",
    "for x in data['Other Debt']:\n",
    "    if ((x> up_lim1) or (x<low_lim1)):\n",
    "         Other_Debt.append(x)\n",
    "if Other_Debt == []:\n",
    "    print(\"no Outlier\")\n",
    "else:\n",
    "    print(Other_Debt)"
   ]
  },
  {
   "cell_type": "code",
   "execution_count": 134,
   "metadata": {},
   "outputs": [],
   "source": [
    "#Write code here\n",
    "Q12 = np.percentile(data['DebtIncomeRatio'], 25, interpolation = 'midpoint')\n",
    "Q32 = np.percentile(data['DebtIncomeRatio'], 75, interpolation = 'midpoint')\n",
    "IQR2 = Q32 - Q12\n",
    "K2 = 1.5\n",
    "low_lim2 = Q12 - K2 * IQR2\n",
    "up_lim2 = Q32 + K2 * IQR2"
   ]
  },
  {
   "cell_type": "code",
   "execution_count": 135,
   "metadata": {},
   "outputs": [
    {
     "name": "stdout",
     "output_type": "stream",
     "text": [
      "[32.5, 29.7, 30.1, 28.9, 28.5, 30.7, 28.9, 41.3, 30.6, 35.3, 33.3, 36.6, 30.8, 33.4]\n"
     ]
    }
   ],
   "source": [
    "DebtIncomeRatio =[]\n",
    "for x in data['DebtIncomeRatio']:\n",
    "    if ((x> up_lim2) or (x<low_lim2)):\n",
    "         DebtIncomeRatio.append(x)\n",
    "if DebtIncomeRatio == []:\n",
    "    print(\"no Outlier\")\n",
    "else:\n",
    "    print(DebtIncomeRatio)"
   ]
  },
  {
   "cell_type": "markdown",
   "metadata": {},
   "source": [
    "* **What k-value did you use to detect the outliers and why?**"
   ]
  },
  {
   "cell_type": "markdown",
   "metadata": {},
   "source": [
    "I used 1.5 as it gives optimal results and used widely and it encapsultes 99% of data"
   ]
  },
  {
   "cell_type": "markdown",
   "metadata": {},
   "source": [
    "* **Which parameter (IQR or Z-score) is better outlier detection? Give reason.**"
   ]
  },
  {
   "cell_type": "markdown",
   "metadata": {},
   "source": [
    "z-score as it encapsulates all the individual standard deviations. "
   ]
  },
  {
   "cell_type": "markdown",
   "metadata": {},
   "source": [
    "### **Outlier Detection using LOC (Local Outlier Factor)**"
   ]
  },
  {
   "cell_type": "markdown",
   "metadata": {},
   "source": [
    "LOF uses density-based outlier detection to identify local outliers. An anomaly score is assigned to each sample which measures the local deviation of density of a this sample with respect to its neighbors. "
   ]
  },
  {
   "cell_type": "code",
   "execution_count": 136,
   "metadata": {},
   "outputs": [],
   "source": [
    "#write your code here\n",
    "data = data.drop('Address', axis = 1)\n",
    "#data = data.drop('Defaulted', axis = 1)"
   ]
  },
  {
   "cell_type": "markdown",
   "metadata": {},
   "source": [
    "**1.** Tranform the features by scaling them to a \n",
    "given range(e.g. 0-1):"
   ]
  },
  {
   "cell_type": "code",
   "execution_count": 137,
   "metadata": {},
   "outputs": [
    {
     "data": {
      "text/html": [
       "<div>\n",
       "<style scoped>\n",
       "    .dataframe tbody tr th:only-of-type {\n",
       "        vertical-align: middle;\n",
       "    }\n",
       "\n",
       "    .dataframe tbody tr th {\n",
       "        vertical-align: top;\n",
       "    }\n",
       "\n",
       "    .dataframe thead th {\n",
       "        text-align: right;\n",
       "    }\n",
       "</style>\n",
       "<table border=\"1\" class=\"dataframe\">\n",
       "  <thead>\n",
       "    <tr style=\"text-align: right;\">\n",
       "      <th></th>\n",
       "      <th>0</th>\n",
       "      <th>1</th>\n",
       "      <th>2</th>\n",
       "      <th>3</th>\n",
       "      <th>4</th>\n",
       "      <th>5</th>\n",
       "      <th>6</th>\n",
       "      <th>7</th>\n",
       "      <th>8</th>\n",
       "    </tr>\n",
       "  </thead>\n",
       "  <tbody>\n",
       "    <tr>\n",
       "      <th>0</th>\n",
       "      <td>0.000000</td>\n",
       "      <td>0.583333</td>\n",
       "      <td>0.25</td>\n",
       "      <td>0.193548</td>\n",
       "      <td>0.011574</td>\n",
       "      <td>0.005450</td>\n",
       "      <td>0.038054</td>\n",
       "      <td>0.0</td>\n",
       "      <td>0.144254</td>\n",
       "    </tr>\n",
       "    <tr>\n",
       "      <th>1</th>\n",
       "      <td>0.001178</td>\n",
       "      <td>0.750000</td>\n",
       "      <td>0.00</td>\n",
       "      <td>0.838710</td>\n",
       "      <td>0.199074</td>\n",
       "      <td>0.222395</td>\n",
       "      <td>0.302801</td>\n",
       "      <td>0.0</td>\n",
       "      <td>0.303178</td>\n",
       "    </tr>\n",
       "    <tr>\n",
       "      <th>2</th>\n",
       "      <td>0.002356</td>\n",
       "      <td>0.361111</td>\n",
       "      <td>0.25</td>\n",
       "      <td>0.322581</td>\n",
       "      <td>0.099537</td>\n",
       "      <td>0.296803</td>\n",
       "      <td>0.213280</td>\n",
       "      <td>1.0</td>\n",
       "      <td>0.501222</td>\n",
       "    </tr>\n",
       "    <tr>\n",
       "      <th>3</th>\n",
       "      <td>0.003534</td>\n",
       "      <td>0.250000</td>\n",
       "      <td>0.25</td>\n",
       "      <td>0.129032</td>\n",
       "      <td>0.011574</td>\n",
       "      <td>0.032556</td>\n",
       "      <td>0.017415</td>\n",
       "      <td>0.0</td>\n",
       "      <td>0.144254</td>\n",
       "    </tr>\n",
       "    <tr>\n",
       "      <th>4</th>\n",
       "      <td>0.004711</td>\n",
       "      <td>0.750000</td>\n",
       "      <td>0.00</td>\n",
       "      <td>1.000000</td>\n",
       "      <td>0.553241</td>\n",
       "      <td>0.452382</td>\n",
       "      <td>0.328368</td>\n",
       "      <td>0.0</td>\n",
       "      <td>0.166259</td>\n",
       "    </tr>\n",
       "  </tbody>\n",
       "</table>\n",
       "</div>"
      ],
      "text/plain": [
       "          0         1     2         3         4         5         6    7  \\\n",
       "0  0.000000  0.583333  0.25  0.193548  0.011574  0.005450  0.038054  0.0   \n",
       "1  0.001178  0.750000  0.00  0.838710  0.199074  0.222395  0.302801  0.0   \n",
       "2  0.002356  0.361111  0.25  0.322581  0.099537  0.296803  0.213280  1.0   \n",
       "3  0.003534  0.250000  0.25  0.129032  0.011574  0.032556  0.017415  0.0   \n",
       "4  0.004711  0.750000  0.00  1.000000  0.553241  0.452382  0.328368  0.0   \n",
       "\n",
       "          8  \n",
       "0  0.144254  \n",
       "1  0.303178  \n",
       "2  0.501222  \n",
       "3  0.144254  \n",
       "4  0.166259  "
      ]
     },
     "execution_count": 137,
     "metadata": {},
     "output_type": "execute_result"
    }
   ],
   "source": [
    "from sklearn.preprocessing import MinMaxScaler\n",
    "#Write your code here for minmax scaling\n",
    "#Write your code here for minmax scaling\n",
    "minMaxScaler = MinMaxScaler(feature_range=(0, 1))\n",
    "data = minMaxScaler.fit_transform(data)\n",
    "I = pd.DataFrame(data)\n",
    "I.head()"
   ]
  },
  {
   "cell_type": "markdown",
   "metadata": {},
   "source": [
    "**2.** Implement LOC algorithm using sklearn. Choose the parameters that will be passed into the function:"
   ]
  },
  {
   "cell_type": "code",
   "execution_count": 138,
   "metadata": {},
   "outputs": [],
   "source": [
    "#write your code here\n",
    "LocalOutlierFactor_ = LocalOutlierFactor(n_neighbors=20, contamination=0.1)\n",
    "y_pred = LocalOutlierFactor_.fit_predict(X1)\n",
    "labels = np.where(y_pred == -1, 0, y_pred)"
   ]
  },
  {
   "cell_type": "code",
   "execution_count": 139,
   "metadata": {},
   "outputs": [
    {
     "data": {
      "image/png": "[encoded data removed]",
      "text/plain": [
       "<Figure size 1080x1080 with 1 Axes>"
      ]
     },
     "metadata": {
      "needs_background": "light"
     },
     "output_type": "display_data"
    }
   ],
   "source": [
    "fig = plt.figure(figsize=(15,15))\n",
    "def plot_model(labels, alg_name):\n",
    "    ax = fig.add_subplot(3,2,1) \n",
    "    color_code = ['red','green']\n",
    "    colors = [color_code[x] for x in labels]\n",
    "\n",
    "    ax.scatter(X1.iloc[:,0], X1.iloc[:,1], color=colors, marker='.', label='red = outliers')\n",
    "    ax.legend(loc=\"upper right\")\n",
    "\n",
    "    leg = plt.gca().get_legend()\n",
    "    leg.legendHandles[0].set_color('red')\n",
    "\n",
    "    ax.set_title(alg_name) \n",
    "\n",
    "plot_model(labels, 'LocalOutlierFactor')"
   ]
  },
  {
   "cell_type": "markdown",
   "metadata": {},
   "source": [
    "* **What value did you use for the 'n_neighbours'?**"
   ]
  },
  {
   "cell_type": "markdown",
   "metadata": {},
   "source": [
    "20 . approximation basead on #of rows : around 800"
   ]
  },
  {
   "cell_type": "markdown",
   "metadata": {},
   "source": [
    "**3.** Print the length of outliers returned."
   ]
  },
  {
   "cell_type": "code",
   "execution_count": 140,
   "metadata": {},
   "outputs": [
    {
     "data": {
      "text/plain": [
       "70"
      ]
     },
     "execution_count": 140,
     "metadata": {},
     "output_type": "execute_result"
    }
   ],
   "source": [
    "len([i for i in labels if i==0])"
   ]
  },
  {
   "cell_type": "markdown",
   "metadata": {},
   "source": [
    "### **Isolation Forest**"
   ]
  },
  {
   "cell_type": "markdown",
   "metadata": {},
   "source": [
    "Isolation Forest is an outlier detection algoritm that is based on the Decision Trees. It spearates the outliers by randomly selecting a certain attribute and then randomly selecting a split value between the max and min values of this feature."
   ]
  },
  {
   "cell_type": "markdown",
   "metadata": {},
   "source": [
    "**1.** Implement Isolation Forest algorithm using sklearn. Choose the parameters that will be passed into the function:"
   ]
  },
  {
   "cell_type": "code",
   "execution_count": 141,
   "metadata": {},
   "outputs": [
    {
     "data": {
      "text/plain": [
       "IsolationForest(max_samples=100)"
      ]
     },
     "execution_count": 141,
     "metadata": {},
     "output_type": "execute_result"
    }
   ],
   "source": [
    "#Write your code here\n",
    "from sklearn.ensemble import IsolationForest\n",
    "clf = IsolationForest(max_samples=100)\n",
    "clf.fit(X1)"
   ]
  },
  {
   "cell_type": "code",
   "execution_count": 142,
   "metadata": {},
   "outputs": [],
   "source": [
    "label = clf.fit_predict(X1)\n",
    "labels = np.where(y_pred == -1, 0, y_pred)"
   ]
  },
  {
   "cell_type": "markdown",
   "metadata": {},
   "source": [
    "* **What value did you use for the 'max_samples'?**"
   ]
  },
  {
   "cell_type": "markdown",
   "metadata": {},
   "source": [
    "100"
   ]
  },
  {
   "cell_type": "markdown",
   "metadata": {},
   "source": [
    "**2.** Print the length of outliers returned."
   ]
  },
  {
   "cell_type": "code",
   "execution_count": 143,
   "metadata": {},
   "outputs": [
    {
     "data": {
      "text/plain": [
       "70"
      ]
     },
     "execution_count": 143,
     "metadata": {},
     "output_type": "execute_result"
    }
   ],
   "source": [
    "len([i for i in labels if i==0])"
   ]
  },
  {
   "cell_type": "markdown",
   "metadata": {},
   "source": [
    "* **Compare the results from both LOC and Isolation Forest:** "
   ]
  },
  {
   "cell_type": "markdown",
   "metadata": {},
   "source": [
    "Same Results."
   ]
  }
 ],
 "metadata": {
  "kernelspec": {
   "display_name": "Python 3 (ipykernel)",
   "language": "python",
   "name": "python3"
  },
  "language_info": {
   "codemirror_mode": {
    "name": "ipython",
    "version": 3
   },
   "file_extension": ".py",
   "mimetype": "text/x-python",
   "name": "python",
   "nbconvert_exporter": "python",
   "pygments_lexer": "ipython3",
   "version": "3.9.5"
  }
 },
 "nbformat": 4,
 "nbformat_minor": 2
}
